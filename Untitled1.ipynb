{
 "cells": [
  {
   "cell_type": "code",
   "execution_count": 16,
   "metadata": {},
   "outputs": [
    {
     "data": {
      "text/plain": [
       "True"
      ]
     },
     "execution_count": 16,
     "metadata": {},
     "output_type": "execute_result"
    }
   ],
   "source": [
    "def isnegative(n):\n",
    "    if n < 0:\n",
    "        return True\n",
    "    else: \n",
    "        return False\n",
    "isnegative(-6)"
   ]
  },
  {
   "cell_type": "code",
   "execution_count": 79,
   "metadata": {},
   "outputs": [
    {
     "name": "stdout",
     "output_type": "stream",
     "text": [
      "1\n"
     ]
    }
   ],
   "source": [
    "list1 = [1,2,3] \n",
    "def count_evens(list1):\n",
    "    even_count = 0\n",
    "    for num in list1:  \n",
    "        if num % 2 == 0: \n",
    "            even_count += 1\n",
    "print(even_count)"
   ]
  },
  {
   "cell_type": "code",
   "execution_count": 120,
   "metadata": {},
   "outputs": [
    {
     "data": {
      "text/plain": [
       "[1, 3, 5]"
      ]
     },
     "execution_count": 120,
     "metadata": {},
     "output_type": "execute_result"
    }
   ],
   "source": [
    "def increment_odds(n):\n",
    "    nums = []\n",
    "    for n in range(1, 2*n, 2):\n",
    "        nums.append(n)\n",
    "    return nums\n",
    "increment_odds(3)"
   ]
  },
  {
   "cell_type": "code",
   "execution_count": null,
   "metadata": {},
   "outputs": [],
   "source": []
  },
  {
   "cell_type": "code",
   "execution_count": 91,
   "metadata": {},
   "outputs": [
    {
     "data": {
      "text/plain": [
       "3.0"
      ]
     },
     "execution_count": 91,
     "metadata": {},
     "output_type": "execute_result"
    }
   ],
   "source": [
    "def average(l):\n",
    "    for n in l:\n",
    "        return round(len(l)/n, 2)\n",
    "average([1,2,3])"
   ]
  },
  {
   "cell_type": "code",
   "execution_count": 178,
   "metadata": {},
   "outputs": [
    {
     "data": {
      "text/plain": [
       "{'frist_name': 'Ada', 'last_name': 'Lovelace'}"
      ]
     },
     "execution_count": 178,
     "metadata": {},
     "output_type": "execute_result"
    }
   ],
   "source": [
    "name_to_dict = dict()\n",
    "name_to_dict[\"frist_name\"] = \"Ada\"\n",
    "name_to_dict[\"last_name\"] = \"Lovelace\"\n",
    "name_to_dict "
   ]
  },
  {
   "cell_type": "code",
   "execution_count": 181,
   "metadata": {},
   "outputs": [
    {
     "data": {
      "text/plain": [
       "'Li'"
      ]
     },
     "execution_count": 181,
     "metadata": {},
     "output_type": "execute_result"
    }
   ],
   "source": [
    "def capitalize_names(name):\n",
    "    for n in name[0]:\n",
    "        return(f\"{name}\".capitalize())\n",
    "capitalize_names(\"\")"
   ]
  },
  {
   "cell_type": "code",
   "execution_count": 192,
   "metadata": {},
   "outputs": [
    {
     "data": {
      "text/plain": [
       "2"
      ]
     },
     "execution_count": 192,
     "metadata": {},
     "output_type": "execute_result"
    }
   ],
   "source": [
    "def count_vowels(value):\n",
    "    value = value.lower()\n",
    "    vowel = ['a','e','i','o','u']\n",
    "    count = 0\n",
    "    for a in value:\n",
    "        if a in vowel:\n",
    "            count += 1 \n",
    "        \n",
    "    return count\n",
    "count_vowels('abcde')"
   ]
  },
  {
   "cell_type": "code",
   "execution_count": 226,
   "metadata": {},
   "outputs": [
    {
     "data": {
      "text/plain": [
       "4"
      ]
     },
     "execution_count": 226,
     "metadata": {},
     "output_type": "execute_result"
    }
   ],
   "source": [
    "\n",
    "def analyze_word(word):\n",
    "    vowels = ['a','e','i','o','u']\n",
    "    og_word = {}\n",
    "    num_of_vowels = {}\n",
    "    num_of_char = {}\n",
    "    \n",
    "    for c in word:\n",
    "        if c in num_of_char:\n",
    "            num_of_char[word] += 1\n",
    "        else:\n",
    "            num_of_char[word] = 1\n",
    "    return len(word)\n",
    "    for c in word:\n",
    "        if c in vowels:\n",
    "            num_of_char[word] += 1\n",
    "        else:\n",
    "            num_of_char[word] = 1\n",
    "    return(c)\n",
    "analyze_word('word')"
   ]
  },
  {
   "cell_type": "code",
   "execution_count": null,
   "metadata": {},
   "outputs": [],
   "source": []
  }
 ],
 "metadata": {
  "kernelspec": {
   "display_name": "Python 3",
   "language": "python",
   "name": "python3"
  },
  "language_info": {
   "codemirror_mode": {
    "name": "ipython",
    "version": 3
   },
   "file_extension": ".py",
   "mimetype": "text/x-python",
   "name": "python",
   "nbconvert_exporter": "python",
   "pygments_lexer": "ipython3",
   "version": "3.8.5"
  }
 },
 "nbformat": 4,
 "nbformat_minor": 4
}
