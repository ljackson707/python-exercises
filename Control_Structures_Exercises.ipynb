{
 "cells": [
  {
   "cell_type": "code",
   "execution_count": 15,
   "metadata": {},
   "outputs": [
    {
     "name": "stdout",
     "output_type": "stream",
     "text": [
      "day_of_the_week? Monday\n",
      "Happy Monday\n"
     ]
    }
   ],
   "source": [
    "day = input(\"day_of_the_week? \") # user interaction # day stores the input\n",
    "if day.startswith(\"Mon\"):\n",
    "    print(\"Happy Monday\")\n",
    "else: \n",
    "    print(\"Today is not Monday\")"
   ]
  },
  {
   "cell_type": "code",
   "execution_count": 20,
   "metadata": {},
   "outputs": [
    {
     "name": "stdout",
     "output_type": "stream",
     "text": [
      "day_of_the_week? Monday\n",
      "Monday is a Weekday\n"
     ]
    }
   ],
   "source": [
    "day = input(\"day_of_the_week? \")\n",
    "if day.lower().startswith(\"s\"):\n",
    "    print(f\"{day} is a Weekend\")\n",
    "else: \n",
    "    print(f\"{day} is a Weekday\")\n"
   ]
  },
  {
   "cell_type": "code",
   "execution_count": 25,
   "metadata": {},
   "outputs": [
    {
     "name": "stdout",
     "output_type": "stream",
     "text": [
      "Hours Worked? 41\n",
      "hourly Rate? 100\n",
      "4150.0\n"
     ]
    }
   ],
   "source": [
    "hr = input(\"Hours Worked? \")\n",
    "hr = int(hr)\n",
    "rate = input(\"hourly Rate? \")\n",
    "rate = int(rate)\n",
    "week_pay = hr * rate\n",
    "if hr > 40:\n",
    "    print((rate * 40)+(1.5 * rate * (hr - 40)))\n",
    "else:\n",
    "    print(week_pay)"
   ]
  },
  {
   "cell_type": "code",
   "execution_count": 27,
   "metadata": {},
   "outputs": [
    {
     "name": "stdout",
     "output_type": "stream",
     "text": [
      "5\n",
      "6\n",
      "7\n",
      "8\n",
      "9\n",
      "10\n",
      "11\n",
      "12\n",
      "13\n",
      "14\n",
      "15\n"
     ]
    }
   ],
   "source": [
    "i = 5\n",
    "while i <= 15: # Runs unitl it hits 16 and then exits the loop (only shows up to 15)\n",
    "    print(i) # Each loop interation (Write code in the body of the loop)\n",
    "    i += 1"
   ]
  },
  {
   "cell_type": "code",
   "execution_count": 31,
   "metadata": {},
   "outputs": [
    {
     "name": "stdout",
     "output_type": "stream",
     "text": [
      "i: 0\n",
      "i: 2\n",
      "i: 4\n",
      "i: 6\n",
      "i: 8\n",
      "i: 10\n",
      "i: 12\n",
      "i: 14\n",
      "i: 16\n",
      "i: 18\n",
      "i: 20\n",
      "i: 22\n",
      "i: 24\n",
      "i: 26\n",
      "i: 28\n",
      "i: 30\n",
      "i: 32\n",
      "i: 34\n",
      "i: 36\n",
      "i: 38\n",
      "i: 40\n",
      "i: 42\n",
      "i: 44\n",
      "i: 46\n",
      "i: 48\n",
      "i: 50\n",
      "i: 52\n",
      "i: 54\n",
      "i: 56\n",
      "i: 58\n",
      "i: 60\n",
      "i: 62\n",
      "i: 64\n",
      "i: 66\n",
      "i: 68\n",
      "i: 70\n",
      "i: 72\n",
      "i: 74\n",
      "i: 76\n",
      "i: 78\n",
      "i: 80\n",
      "i: 82\n",
      "i: 84\n",
      "i: 86\n",
      "i: 88\n",
      "i: 90\n",
      "i: 92\n",
      "i: 94\n",
      "i: 96\n",
      "i: 98\n",
      "i: 100\n"
     ]
    }
   ],
   "source": [
    "i = 0\n",
    "while i <= 100:\n",
    "    print(f\"i: {i}\")\n",
    "    i += 2 # Go by 2s"
   ]
  },
  {
   "cell_type": "code",
   "execution_count": 19,
   "metadata": {},
   "outputs": [
    {
     "name": "stdout",
     "output_type": "stream",
     "text": [
      "100\n",
      "95\n",
      "90\n",
      "85\n",
      "80\n",
      "75\n",
      "70\n",
      "65\n",
      "60\n",
      "55\n",
      "50\n",
      "45\n",
      "40\n",
      "35\n",
      "30\n",
      "25\n",
      "20\n",
      "15\n",
      "10\n",
      "5\n",
      "0\n",
      "-5\n",
      "-10\n"
     ]
    }
   ],
   "source": [
    "i = 100\n",
    "while i >= -10:\n",
    "    print(i)\n",
    "    i += -5"
   ]
  },
  {
   "cell_type": "code",
   "execution_count": 34,
   "metadata": {},
   "outputs": [
    {
     "name": "stdout",
     "output_type": "stream",
     "text": [
      "i: 2\n",
      "i: 4\n",
      "i: 16\n",
      "i: 256\n",
      "i: 65536\n"
     ]
    }
   ],
   "source": [
    "i = 2\n",
    "while i < 1000000:\n",
    "    print(f\"i: {i}\")\n",
    "    i = i ** 2 # Rise to the power of 2 or i^2 if you want to cube change to i**3"
   ]
  },
  {
   "cell_type": "code",
   "execution_count": 36,
   "metadata": {},
   "outputs": [
    {
     "name": "stdout",
     "output_type": "stream",
     "text": [
      "Number? 4\n",
      "4 x 1 = 4\n",
      "4 x 2 = 8\n",
      "4 x 3 = 12\n",
      "4 x 4 = 16\n",
      "4 x 5 = 20\n",
      "4 x 6 = 24\n",
      "4 x 7 = 28\n",
      "4 x 8 = 32\n",
      "4 x 9 = 36\n",
      "4 x 10 = 40\n"
     ]
    }
   ],
   "source": [
    "num = input(\"Number? \")\n",
    "num = int(num)\n",
    "for i in range(1, 11):\n",
    "    print(num, 'x', i, '=', num*i)"
   ]
  },
  {
   "cell_type": "code",
   "execution_count": 60,
   "metadata": {},
   "outputs": [
    {
     "name": "stdout",
     "output_type": "stream",
     "text": [
      "please enter an odd number between 1 and 50. 34\n"
     ]
    },
    {
     "ename": "KeyboardInterrupt",
     "evalue": "Interrupted by user",
     "output_type": "error",
     "traceback": [
      "\u001b[0;31m---------------------------------------------------------------------------\u001b[0m",
      "\u001b[0;31mKeyboardInterrupt\u001b[0m                         Traceback (most recent call last)",
      "\u001b[0;32m<ipython-input-60-df585a53007d>\u001b[0m in \u001b[0;36m<module>\u001b[0;34m\u001b[0m\n\u001b[1;32m      1\u001b[0m \u001b[0;32mwhile\u001b[0m \u001b[0;32mTrue\u001b[0m\u001b[0;34m:\u001b[0m \u001b[0;31m# infinite loop\u001b[0m\u001b[0;34m\u001b[0m\u001b[0;34m\u001b[0m\u001b[0m\n\u001b[0;32m----> 2\u001b[0;31m     \u001b[0modd_input\u001b[0m \u001b[0;34m=\u001b[0m \u001b[0minput\u001b[0m\u001b[0;34m(\u001b[0m\u001b[0;34m'please enter an odd number between 1 and 50. '\u001b[0m\u001b[0;34m)\u001b[0m\u001b[0;34m\u001b[0m\u001b[0;34m\u001b[0m\u001b[0m\n\u001b[0m\u001b[1;32m      3\u001b[0m     \u001b[0;32mif\u001b[0m \u001b[0modd_input\u001b[0m\u001b[0;34m.\u001b[0m\u001b[0misdigit\u001b[0m\u001b[0;34m(\u001b[0m\u001b[0;34m)\u001b[0m\u001b[0;34m:\u001b[0m\u001b[0;34m\u001b[0m\u001b[0;34m\u001b[0m\u001b[0m\n\u001b[1;32m      4\u001b[0m         \u001b[0modd_input\u001b[0m \u001b[0;34m=\u001b[0m \u001b[0mint\u001b[0m\u001b[0;34m(\u001b[0m\u001b[0modd_input\u001b[0m\u001b[0;34m)\u001b[0m\u001b[0;34m\u001b[0m\u001b[0;34m\u001b[0m\u001b[0m\n\u001b[1;32m      5\u001b[0m         \u001b[0;32mif\u001b[0m \u001b[0modd_input\u001b[0m \u001b[0;34m%\u001b[0m \u001b[0;36m2\u001b[0m \u001b[0;34m==\u001b[0m\u001b[0;36m0\u001b[0m\u001b[0;34m:\u001b[0m\u001b[0;34m\u001b[0m\u001b[0;34m\u001b[0m\u001b[0m\n",
      "\u001b[0;32m/usr/local/anaconda3/lib/python3.8/site-packages/ipykernel/kernelbase.py\u001b[0m in \u001b[0;36mraw_input\u001b[0;34m(self, prompt)\u001b[0m\n\u001b[1;32m    858\u001b[0m                 \u001b[0;34m\"raw_input was called, but this frontend does not support input requests.\"\u001b[0m\u001b[0;34m\u001b[0m\u001b[0;34m\u001b[0m\u001b[0m\n\u001b[1;32m    859\u001b[0m             )\n\u001b[0;32m--> 860\u001b[0;31m         return self._input_request(str(prompt),\n\u001b[0m\u001b[1;32m    861\u001b[0m             \u001b[0mself\u001b[0m\u001b[0;34m.\u001b[0m\u001b[0m_parent_ident\u001b[0m\u001b[0;34m,\u001b[0m\u001b[0;34m\u001b[0m\u001b[0;34m\u001b[0m\u001b[0m\n\u001b[1;32m    862\u001b[0m             \u001b[0mself\u001b[0m\u001b[0;34m.\u001b[0m\u001b[0m_parent_header\u001b[0m\u001b[0;34m,\u001b[0m\u001b[0;34m\u001b[0m\u001b[0;34m\u001b[0m\u001b[0m\n",
      "\u001b[0;32m/usr/local/anaconda3/lib/python3.8/site-packages/ipykernel/kernelbase.py\u001b[0m in \u001b[0;36m_input_request\u001b[0;34m(self, prompt, ident, parent, password)\u001b[0m\n\u001b[1;32m    902\u001b[0m             \u001b[0;32mexcept\u001b[0m \u001b[0mKeyboardInterrupt\u001b[0m\u001b[0;34m:\u001b[0m\u001b[0;34m\u001b[0m\u001b[0;34m\u001b[0m\u001b[0m\n\u001b[1;32m    903\u001b[0m                 \u001b[0;31m# re-raise KeyboardInterrupt, to truncate traceback\u001b[0m\u001b[0;34m\u001b[0m\u001b[0;34m\u001b[0m\u001b[0;34m\u001b[0m\u001b[0m\n\u001b[0;32m--> 904\u001b[0;31m                 \u001b[0;32mraise\u001b[0m \u001b[0mKeyboardInterrupt\u001b[0m\u001b[0;34m(\u001b[0m\u001b[0;34m\"Interrupted by user\"\u001b[0m\u001b[0;34m)\u001b[0m \u001b[0;32mfrom\u001b[0m \u001b[0;32mNone\u001b[0m\u001b[0;34m\u001b[0m\u001b[0;34m\u001b[0m\u001b[0m\n\u001b[0m\u001b[1;32m    905\u001b[0m             \u001b[0;32mexcept\u001b[0m \u001b[0mException\u001b[0m \u001b[0;32mas\u001b[0m \u001b[0me\u001b[0m\u001b[0;34m:\u001b[0m\u001b[0;34m\u001b[0m\u001b[0;34m\u001b[0m\u001b[0m\n\u001b[1;32m    906\u001b[0m                 \u001b[0mself\u001b[0m\u001b[0;34m.\u001b[0m\u001b[0mlog\u001b[0m\u001b[0;34m.\u001b[0m\u001b[0mwarning\u001b[0m\u001b[0;34m(\u001b[0m\u001b[0;34m\"Invalid Message:\"\u001b[0m\u001b[0;34m,\u001b[0m \u001b[0mexc_info\u001b[0m\u001b[0;34m=\u001b[0m\u001b[0;32mTrue\u001b[0m\u001b[0;34m)\u001b[0m\u001b[0;34m\u001b[0m\u001b[0;34m\u001b[0m\u001b[0m\n",
      "\u001b[0;31mKeyboardInterrupt\u001b[0m: Interrupted by user"
     ]
    }
   ],
   "source": [
    "while True: # infinite loop \n",
    "    odd_input = input('please enter an odd number between 1 and 50. ')\n",
    "    if odd_input.isdigit():\n",
    "        odd_input = int(odd_input)\n",
    "        if odd_input % 2 ==0:\n",
    "            continue # Checks if the input is even. (Re-enter if even)\n",
    "        break\n",
    "        \n",
    "i = 1\n",
    "while i <= 50:\n",
    "    if i == odd_input:\n",
    "        print(f\"Yikes! Skipping number: {i}\")\n",
    "        i += 2\n",
    "        continue\n",
    "    print(f\"Here is an odd number: {i}\")\n",
    "    i += 2"
   ]
  },
  {
   "cell_type": "code",
   "execution_count": 69,
   "metadata": {},
   "outputs": [
    {
     "name": "stdout",
     "output_type": "stream",
     "text": [
      "please enter a positive number. 4\n",
      "0\n",
      "1\n",
      "2\n",
      "3\n",
      "4\n"
     ]
    }
   ],
   "source": [
    "# Enter a positive number\n",
    "while True: # infinite loop \n",
    "    positive_input = input('please enter a positive number. ')\n",
    "    if positive_input.isdigit():\n",
    "        positive_input = int(positive_input) # If digit then convert to int\n",
    "        if positive_input < 0:  \n",
    "            continue\n",
    "        break\n",
    "\n",
    "for i in range(0, positive_input +1):\n",
    "    print(i)"
   ]
  },
  {
   "cell_type": "markdown",
   "metadata": {},
   "source": [
    "- ### infinite loop\n",
    "- prmpt user\n",
    "  - check if the in out is composed of digits \n",
    "       - convert to numeric type\n",
    "       - check if the number is negative or ) if so \n",
    "           - go back to square one / top\n",
    "       -stop the loop(break)"
   ]
  },
  {
   "cell_type": "code",
   "execution_count": 70,
   "metadata": {},
   "outputs": [
    {
     "name": "stdout",
     "output_type": "stream",
     "text": [
      "please enter a positive number. 4\n",
      "4\n",
      "3\n",
      "2\n",
      "1\n"
     ]
    }
   ],
   "source": [
    "while True: # infinite loop \n",
    "    positive_input = input('please enter a positive number. ')\n",
    "    if positive_input.isdigit():\n",
    "        positive_input = int(positive_input) # If digit then convert to int\n",
    "        if positive_input < 0:  \n",
    "            continue\n",
    "        break\n",
    "\n",
    "for i in range(positive_input, 0, -1):\n",
    "    print(i)\n"
   ]
  },
  {
   "cell_type": "code",
   "execution_count": 39,
   "metadata": {},
   "outputs": [
    {
     "name": "stdout",
     "output_type": "stream",
     "text": [
      "100\n",
      "95\n",
      "90\n",
      "85\n",
      "80\n",
      "75\n",
      "70\n",
      "65\n",
      "60\n",
      "55\n",
      "50\n",
      "45\n",
      "40\n",
      "35\n",
      "30\n",
      "25\n",
      "20\n",
      "15\n",
      "10\n",
      "5\n"
     ]
    }
   ],
   "source": [
    "i = 100\n",
    "while i <= 100 and i >= 5:\n",
    "    print(i)\n",
    "    i += -5"
   ]
  },
  {
   "cell_type": "code",
   "execution_count": 42,
   "metadata": {},
   "outputs": [
    {
     "name": "stdout",
     "output_type": "stream",
     "text": [
      "1\n",
      "22\n",
      "333\n",
      "4444\n",
      "55555\n",
      "666666\n",
      "7777777\n",
      "88888888\n",
      "999999999\n"
     ]
    }
   ],
   "source": [
    "for i in range(1, 10):\n",
    "    print(str(i)*i)"
   ]
  },
  {
   "cell_type": "code",
   "execution_count": 77,
   "metadata": {},
   "outputs": [
    {
     "name": "stdout",
     "output_type": "stream",
     "text": [
      "1\n",
      "2\n",
      "Fizz\n",
      "4\n",
      "Buzz\n",
      "Fizz\n",
      "7\n",
      "8\n",
      "Fizz\n",
      "Buzz\n",
      "11\n",
      "Fizz\n",
      "13\n",
      "14\n",
      "Fizzbuzz\n",
      "16\n",
      "17\n",
      "Fizz\n",
      "19\n",
      "Buzz\n",
      "Fizz\n",
      "22\n",
      "23\n",
      "Fizz\n",
      "Buzz\n",
      "26\n",
      "Fizz\n",
      "28\n",
      "29\n",
      "Fizzbuzz\n",
      "31\n",
      "32\n",
      "Fizz\n",
      "34\n",
      "Buzz\n",
      "Fizz\n",
      "37\n",
      "38\n",
      "Fizz\n",
      "Buzz\n",
      "41\n",
      "Fizz\n",
      "43\n",
      "44\n",
      "Fizzbuzz\n",
      "46\n",
      "47\n",
      "Fizz\n",
      "49\n",
      "Buzz\n",
      "Fizz\n",
      "52\n",
      "53\n",
      "Fizz\n",
      "Buzz\n",
      "56\n",
      "Fizz\n",
      "58\n",
      "59\n",
      "Fizzbuzz\n",
      "61\n",
      "62\n",
      "Fizz\n",
      "64\n",
      "Buzz\n",
      "Fizz\n",
      "67\n",
      "68\n",
      "Fizz\n",
      "Buzz\n",
      "71\n",
      "Fizz\n",
      "73\n",
      "74\n",
      "Fizzbuzz\n",
      "76\n",
      "77\n",
      "Fizz\n",
      "79\n",
      "Buzz\n",
      "Fizz\n",
      "82\n",
      "83\n",
      "Fizz\n",
      "Buzz\n",
      "86\n",
      "Fizz\n",
      "88\n",
      "89\n",
      "Fizzbuzz\n",
      "91\n",
      "92\n",
      "Fizz\n",
      "94\n",
      "Buzz\n",
      "Fizz\n",
      "97\n",
      "98\n",
      "Fizz\n",
      "Buzz\n"
     ]
    }
   ],
   "source": [
    "for i in range(1, 101):\n",
    "    if i % 5 == 0 and i % 3 == 0:\n",
    "        print(\"Fizzbuzz\")\n",
    "    elif i % 3 == 0:\n",
    "        print(\"Fizz\")\n",
    "    elif i % 5 == 0:\n",
    "        print(\"Buzz\")\n",
    "    else: \n",
    "        print(i)"
   ]
  },
  {
   "cell_type": "code",
   "execution_count": 84,
   "metadata": {
    "scrolled": true
   },
   "outputs": [
    {
     "name": "stdout",
     "output_type": "stream",
     "text": [
      "Please enter an interger 5\n",
      "number | squared | cubed\n",
      "-------|---------|------\n",
      "     1 |       1 |     1\n",
      "     2 |       4 |     8\n",
      "     3 |       9 |    27\n",
      "     4 |      16 |    64\n",
      "     5 |      25 |   125\n"
     ]
    }
   ],
   "source": [
    "user_input = int(input(\"Please enter an interger \"))\n",
    "\n",
    "print(\"number | squared | cubed\")\n",
    "print(\"-------|---------|------\")\n",
    "for i in range(1, user_input + 1):\n",
    "    print(\"%6d | %7d | %5d\" % (i, i**2, i**3))"
   ]
  },
  {
   "cell_type": "code",
   "execution_count": 93,
   "metadata": {},
   "outputs": [
    {
     "name": "stdout",
     "output_type": "stream",
     "text": [
      "Please enter a number grade: 90\n",
      "A\n",
      "Do you want to continue? y\n",
      "Please enter a number grade: 80\n",
      "B\n",
      "Do you want to continue? y\n",
      "Please enter a number grade: 100\n",
      "A\n",
      "Do you want to continue? n\n"
     ]
    }
   ],
   "source": [
    "while True:      \n",
    "    numeric_grade = int(input(\"Please enter a number grade: \"))\n",
    "    # convert to letter\n",
    "    if numeric_grade >= 88:\n",
    "        print(\"A\")\n",
    "    elif numeric_grade >= 80:\n",
    "        print(\"B\")\n",
    "    elif numeric_grade >= 67:\n",
    "        print(\"C\")\n",
    "    elif numeric_grade >= 60:\n",
    "        print(\"D\")\n",
    "    else:\n",
    "        print(\"F\")\n",
    "    wants_to_continue = input(\"Do you want to continue? \")\n",
    "    if not wants_to_continue.lower().startswith(\"y\"):\n",
    "        break"
   ]
  },
  {
   "cell_type": "code",
   "execution_count": 107,
   "metadata": {},
   "outputs": [
    {
     "name": "stdout",
     "output_type": "stream",
     "text": [
      "Please enter a genre: Stats\n",
      "---\n",
      "title: Naked Statistics\n",
      "author: Charles Wheelan\n",
      "genre: Stats\n"
     ]
    }
   ],
   "source": [
    "# Create a list of dicts\n",
    "books = [\n",
    "        {\"title\": \"Naked Statistics\", \"author\": \"Charles Wheelan\", \"genre\": \"Stats\"},\n",
    "        {\"title\": \"Alex Rider\", \"author\": \"Anthony Horwitz\", \"genre\": \"Action-Fiction\"}\n",
    "]\n",
    "\n",
    "selected_genre = input(\"Please enter a genre: \")\n",
    "selected_books = [book for book in books if book[\"genre\"]== selected_genre]\n",
    "# for singlier in plural\n",
    "# plural = list of things single = one thing from list \n",
    "for book in selected_books:\n",
    "    print(\"---\")\n",
    "    print(\"title: {}\".format(book[\"title\"]))\n",
    "    print(\"author: {}\".format(book[\"author\"]))\n",
    "    print(\"genre: {}\".format(book[\"genre\"]))"
   ]
  },
  {
   "cell_type": "code",
   "execution_count": null,
   "metadata": {},
   "outputs": [],
   "source": []
  }
 ],
 "metadata": {
  "kernelspec": {
   "display_name": "Python 3",
   "language": "python",
   "name": "python3"
  },
  "language_info": {
   "codemirror_mode": {
    "name": "ipython",
    "version": 3
   },
   "file_extension": ".py",
   "mimetype": "text/x-python",
   "name": "python",
   "nbconvert_exporter": "python",
   "pygments_lexer": "ipython3",
   "version": "3.8.5"
  }
 },
 "nbformat": 4,
 "nbformat_minor": 4
}
