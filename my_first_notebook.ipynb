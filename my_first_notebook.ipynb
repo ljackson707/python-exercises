{
 "cells": [
  {
   "cell_type": "code",
   "execution_count": 8,
   "metadata": {},
   "outputs": [
    {
     "name": "stdout",
     "output_type": "stream",
     "text": [
      "Hello, World\n",
      "Hello Liam\n",
      "42\n"
     ]
    }
   ],
   "source": [
    "#1\n",
    "print('Hello, World')\n",
    "\n",
    "#2\n",
    "greeting = \"Hello Liam\"\n",
    "print(greeting)\n",
    "\n",
    "#3\n",
    "a = 12\n",
    "b = 30\n",
    "a + b\n",
    "print (a + b)"
   ]
  },
  {
   "cell_type": "code",
   "execution_count": 1,
   "metadata": {},
   "outputs": [],
   "source": [
    "# 3 shortcuts for JN\n",
    "\n",
    "#1 # and ## and ### allows you to rnder markdown with headings\n",
    "    #Heading 1\n",
    "    ##Heading 2\n",
    "    ###Heading 3\n",
    "\n",
    "#2 Shift + Enter to move between multiple cells\n",
    "    #runs a selected cell \n",
    "\n",
    "#3 ESC puts us in comand mode\n",
    "\n",
    "#4 Import matplotlib \n",
    "    #libary that makes charts"
   ]
  },
  {
   "cell_type": "code",
   "execution_count": null,
   "metadata": {},
   "outputs": [],
   "source": []
  }
 ],
 "metadata": {
  "kernelspec": {
   "display_name": "Python 3",
   "language": "python",
   "name": "python3"
  },
  "language_info": {
   "codemirror_mode": {
    "name": "ipython",
    "version": 3
   },
   "file_extension": ".py",
   "mimetype": "text/x-python",
   "name": "python",
   "nbconvert_exporter": "python",
   "pygments_lexer": "ipython3",
   "version": "3.8.5"
  }
 },
 "nbformat": 4,
 "nbformat_minor": 4
}
