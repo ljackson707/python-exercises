{
 "cells": [
  {
   "cell_type": "code",
   "execution_count": 1,
   "metadata": {},
   "outputs": [],
   "source": [
    "import matplotlib.pyplot as plt\n",
    "import numpy as np\n",
    "import math\n",
    "from random import randint\n",
    "import random\n",
    "import pandas as pd\n"
   ]
  },
  {
   "cell_type": "code",
   "execution_count": 20,
   "metadata": {},
   "outputs": [
    {
     "data": {
      "text/plain": [
       "Text(0, 500, 'The Origin')"
      ]
     },
     "execution_count": 20,
     "metadata": {},
     "output_type": "execute_result"
    },
    {
     "data": {
      "image/png": "[encoded data removed]",
      "text/plain": [
       "<Figure size 720x432 with 1 Axes>"
      ]
     },
     "metadata": {
      "needs_background": "light"
     },
     "output_type": "display_data"
    }
   ],
   "source": [
    "#1) Use matplotlib to plot the following equation:\n",
    "       \n",
    "        # y=x^2−x+2\n",
    "\n",
    "# You'll need to write the code that generates the x and y points.\n",
    "plt.figure(figsize = (10,6))\n",
    "x = range(-50, 50, 2)\n",
    "y = [ n ** 2 - n for n in x]\n",
    "plt.scatter(x,y)\n",
    "plt.title('$y = x^2-x+2$')\n",
    "\n",
    "plt.xlabel('$x$', fontsize = 14)\n",
    "plt.ylabel('$x^2-x+2$', fontsize = 14)\n",
    "\n",
    "# Add an anotation for the point 0, 0, the origin.\n",
    "plt.annotate('The Origin', xy = (0, 0), xytext = (0, 500), arrowprops = dict(facecolor = 'red'))\n",
    "\n",
    "\n",
    "\n",
    "\n"
   ]
  },
  {
   "cell_type": "code",
   "execution_count": 62,
   "metadata": {},
   "outputs": [
    {
     "ename": "TypeError",
     "evalue": "unsupported operand type(s) for ^: 'range' and 'float'",
     "output_type": "error",
     "traceback": [
      "\u001b[0;31m---------------------------------------------------------------------------\u001b[0m",
      "\u001b[0;31mTypeError\u001b[0m                                 Traceback (most recent call last)",
      "\u001b[0;32m<ipython-input-62-6d88e4c8c17f>\u001b[0m in \u001b[0;36m<module>\u001b[0;34m\u001b[0m\n\u001b[1;32m      8\u001b[0m \u001b[0;31m# You can use functions from the math module to help implement some of the equations above.\u001b[0m\u001b[0;34m\u001b[0m\u001b[0;34m\u001b[0m\u001b[0;34m\u001b[0m\u001b[0m\n\u001b[1;32m      9\u001b[0m \u001b[0mx\u001b[0m \u001b[0;34m=\u001b[0m \u001b[0mrange\u001b[0m\u001b[0;34m(\u001b[0m\u001b[0;34m-\u001b[0m\u001b[0;36m50\u001b[0m\u001b[0;34m,\u001b[0m \u001b[0;36m50\u001b[0m\u001b[0;34m)\u001b[0m\u001b[0;34m\u001b[0m\u001b[0;34m\u001b[0m\u001b[0m\n\u001b[0;32m---> 10\u001b[0;31m \u001b[0my1\u001b[0m \u001b[0;34m=\u001b[0m \u001b[0;34m[\u001b[0m\u001b[0mx\u001b[0m\u001b[0;34m^\u001b[0m\u001b[0;36m0.5\u001b[0m\u001b[0;34m]\u001b[0m\u001b[0;34m\u001b[0m\u001b[0;34m\u001b[0m\u001b[0m\n\u001b[0m\u001b[1;32m     11\u001b[0m \u001b[0my2\u001b[0m \u001b[0;34m=\u001b[0m \u001b[0;34m[\u001b[0m\u001b[0mx\u001b[0m\u001b[0;34m**\u001b[0m\u001b[0;36m3\u001b[0m \u001b[0;32mfor\u001b[0m \u001b[0mx\u001b[0m \u001b[0;32min\u001b[0m \u001b[0mx\u001b[0m\u001b[0;34m]\u001b[0m\u001b[0;34m\u001b[0m\u001b[0;34m\u001b[0m\u001b[0m\n\u001b[1;32m     12\u001b[0m \u001b[0my3\u001b[0m \u001b[0;34m=\u001b[0m \u001b[0;34m[\u001b[0m\u001b[0;36m2\u001b[0m\u001b[0;34m**\u001b[0m\u001b[0mx\u001b[0m \u001b[0;32mfor\u001b[0m \u001b[0mx\u001b[0m \u001b[0;32min\u001b[0m \u001b[0mx\u001b[0m\u001b[0;34m]\u001b[0m\u001b[0;34m\u001b[0m\u001b[0;34m\u001b[0m\u001b[0m\n",
      "\u001b[0;31mTypeError\u001b[0m: unsupported operand type(s) for ^: 'range' and 'float'"
     ]
    }
   ],
   "source": [
    "#2) Create and label 4 separate charts for the following equations (choose a range for x that makes sense):\n",
    "from math import isqrt\n",
    "        # y=√x\n",
    "        # y=x3\n",
    "        # y=2x\n",
    "        # y=1/(x+1)\n",
    "\n",
    "# You can use functions from the math module to help implement some of the equations above.\n",
    "x = range(-50, 50)\n",
    "y1 = [x^0.5 for x in x]\n",
    "y2 = [x**3 for x in x]\n",
    "y3 = [2**x for x in x]\n",
    "y4 = [1/(x+1) for x in x] \n",
    "\n",
    "\n",
    "plt.figure(figsize = (10,6))\n",
    "x = range(-50, 50)\n",
    "plt.suptitle('math models', fontsize = 16, color = 'w')\n",
    "\n",
    "plt.subplot(2,2,1)\n",
    "plt.plot( x1, y1, ls = '-', marker = '*', color = 'red')\n",
    "plt.title('$y=√x$', color = 'w')\n",
    "plt.grid(True, ls = '--')\n",
    "\n",
    "plt.subplot(2,2,2)\n",
    "plt.plot( x, y2, ls = '-', marker = '*', color = 'red')\n",
    "plt.title('$y=√x$', color = 'w')\n",
    "plt.grid(True, ls = '--')\n",
    "\n",
    "plt.subplot(2,2,3)\n",
    "plt.plot( x, y3, ls = '-', marker = '*', color = 'red')\n",
    "plt.title('$y=√x$', color = 'w')\n",
    "plt.grid(True, ls = '--')\n",
    "\n",
    "plt.subplot(2,2,4)\n",
    "plt.plot( x, y4, ls = '-', marker = '*', color = 'red')\n",
    "plt.title('$y=√x$', color = 'w')\n",
    "plt.grid(True, ls = '--')\n",
    "plt.show()\n",
    "\n",
    "\n",
    "\n",
    "\n",
    "\n",
    "\n",
    "\n",
    "\n"
   ]
  },
  {
   "cell_type": "code",
   "execution_count": null,
   "metadata": {},
   "outputs": [],
   "source": [
    "#3)"
   ]
  },
  {
   "cell_type": "code",
   "execution_count": null,
   "metadata": {},
   "outputs": [],
   "source": [
    "#4)"
   ]
  },
  {
   "cell_type": "code",
   "execution_count": null,
   "metadata": {},
   "outputs": [],
   "source": [
    "#5)"
   ]
  },
  {
   "cell_type": "code",
   "execution_count": null,
   "metadata": {},
   "outputs": [],
   "source": [
    "#6)"
   ]
  },
  {
   "cell_type": "code",
   "execution_count": null,
   "metadata": {},
   "outputs": [],
   "source": [
    "#7)"
   ]
  }
 ],
 "metadata": {
  "kernelspec": {
   "display_name": "Python 3",
   "language": "python",
   "name": "python3"
  },
  "language_info": {
   "codemirror_mode": {
    "name": "ipython",
    "version": 3
   },
   "file_extension": ".py",
   "mimetype": "text/x-python",
   "name": "python",
   "nbconvert_exporter": "python",
   "pygments_lexer": "ipython3",
   "version": "3.8.5"
  }
 },
 "nbformat": 4,
 "nbformat_minor": 4
}
