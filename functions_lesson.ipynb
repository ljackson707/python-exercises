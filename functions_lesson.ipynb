{
 "cells": [
  {
   "cell_type": "markdown",
   "metadata": {},
   "source": [
    "# Python Functions\n",
    "\n",
    "- Context: what are functions? why are they helpful?\n",
    "     - They are reusable peices of code\n",
    "     - Takes an input to produce and output.\n",
    "     - Abstractions: (Print function) allow us to abstract away. "
   ]
  },
  {
   "cell_type": "markdown",
   "metadata": {},
   "source": [
    "## Using Functions"
   ]
  },
  {
   "cell_type": "markdown",
   "metadata": {},
   "source": [
    "<div style=\"padding: 1em 3em; border: 1px solid black;\">\n",
    "    <div style=\"font-weight: bold; font-size: 1.2em; border-bottom: 1px dashed black; padding-bottom: .5em;\">\n",
    "        Vocab\n",
    "    </div>\n",
    "    <ul>\n",
    "        <li>Run/invoke/call</li> # Start of function\n",
    "        <li>Argument</li> # Value passed to the function\n",
    "        <li>Return Value</li> # Result of evaluating the function call expression.\n",
    "    </ul>\n",
    "</div>"
   ]
  },
  {
   "cell_type": "code",
   "execution_count": 2,
   "metadata": {},
   "outputs": [
    {
     "data": {
      "text/plain": [
       "3"
      ]
     },
     "execution_count": 2,
     "metadata": {},
     "output_type": "execute_result"
    }
   ],
   "source": [
    "1 + 2"
   ]
  },
  {
   "cell_type": "code",
   "execution_count": 4,
   "metadata": {},
   "outputs": [
    {
     "data": {
      "text/plain": [
       "123"
      ]
     },
     "execution_count": 4,
     "metadata": {},
     "output_type": "execute_result"
    }
   ],
   "source": [
    "int(123) #Int = call #Argument = string 123 and #Return of 123"
   ]
  },
  {
   "cell_type": "markdown",
   "metadata": {},
   "source": [
    "We've already used built-in functions"
   ]
  },
  {
   "cell_type": "markdown",
   "metadata": {},
   "source": [
    "<div style=\"background-color: rgba(0, 100, 200, .1); padding: 1em 3em; border-radius: 5px; border: 1px solid black\">\n",
    "    <div style=\"font-weight: bold; font-size: 1.2em; border-bottom: 1px dashed black; padding-bottom: .5em;\">\n",
    "        Mini Exercise -- Using Functions\n",
    "    </div>\n",
    "    <ol>\n",
    "        <li>\n",
    "            <p>Take a look at this code snippet:</p>\n",
    "            <pre><code>max([1, 2, 3])</code></pre>\n",
    "            <p>What is the function name?</p>\n",
    "            # Max \n",
    "            <p>Where is the function invocation?</p>\n",
    "            # On [1, 2, 3]\n",
    "            <p>What is the return value?</p>\n",
    "            # 3\n",
    "        </li>\n",
    "        <li>\n",
    "            <p>Take a look at this code snippet:</p>\n",
    "            <pre><code>type(max([1, 2, 3]))</code></pre>\n",
    "            <p>What will the output be? Why?</p>\n",
    "        </li>\n",
    "        <li>\n",
    "            <p>Take a look at this code snippet:</p>\n",
    "            <pre><code>type(max)</code></pre>\n",
    "            <p>What will the output be? Why?</p>\n",
    "        </li>\n",
    "        <li>\n",
    "            <p>What is the difference between the two code blocks below?</p>\n",
    "            <pre><code>print</code></pre>\n",
    "            <pre><code>print()</code></pre>\n",
    "        </li>\n",
    "        <li>What other built in functions do you know?</li>\n",
    "    </ol>\n",
    "</div>"
   ]
  },
  {
   "cell_type": "code",
   "execution_count": 7,
   "metadata": {},
   "outputs": [
    {
     "data": {
      "text/plain": [
       "3"
      ]
     },
     "execution_count": 7,
     "metadata": {},
     "output_type": "execute_result"
    }
   ],
   "source": [
    "max([1,2,3])"
   ]
  },
  {
   "cell_type": "code",
   "execution_count": 11,
   "metadata": {},
   "outputs": [
    {
     "data": {
      "text/plain": [
       "int"
      ]
     },
     "execution_count": 11,
     "metadata": {},
     "output_type": "execute_result"
    }
   ],
   "source": [
    "type(max([1,2,3]))"
   ]
  },
  {
   "cell_type": "code",
   "execution_count": 16,
   "metadata": {},
   "outputs": [
    {
     "data": {
      "text/plain": [
       "builtin_function_or_method"
      ]
     },
     "execution_count": 16,
     "metadata": {},
     "output_type": "execute_result"
    }
   ],
   "source": [
    "type(max)"
   ]
  },
  {
   "cell_type": "code",
   "execution_count": 14,
   "metadata": {},
   "outputs": [
    {
     "data": {
      "text/plain": [
       "<function print>"
      ]
     },
     "execution_count": 14,
     "metadata": {},
     "output_type": "execute_result"
    }
   ],
   "source": [
    "print # refrences the print function"
   ]
  },
  {
   "cell_type": "code",
   "execution_count": 17,
   "metadata": {},
   "outputs": [
    {
     "name": "stdout",
     "output_type": "stream",
     "text": [
      "\n"
     ]
    }
   ],
   "source": [
    "print() #invoking the function/ calling th function"
   ]
  },
  {
   "cell_type": "markdown",
   "metadata": {},
   "source": [
    "# Other types of built-in functions\n",
    "- max()\n",
    "- min()\n",
    "- range()\n",
    "- print()\n",
    "- return()"
   ]
  },
  {
   "cell_type": "markdown",
   "metadata": {},
   "source": [
    "## Defining Functions"
   ]
  },
  {
   "cell_type": "markdown",
   "metadata": {},
   "source": [
    "<div style=\"padding: 1em 3em; border: 1px solid black;\">\n",
    "    <div style=\"font-weight: bold; font-size: 1.2em; border-bottom: 1px dashed black; padding-bottom: .5em;\">\n",
    "        Vocab\n",
    "    </div>\n",
    "    <ul>\n",
    "        <li>Function Definition</li>\n",
    "        <li>Function Name</li>\n",
    "        <li>Argument</li>\n",
    "        <li>Parameter</li>\n",
    "        <li>Function Body</li>\n",
    "    </ul>\n",
    "</div>"
   ]
  },
  {
   "cell_type": "code",
   "execution_count": 1,
   "metadata": {},
   "outputs": [],
   "source": [
    "def increment(n):\n",
    "    return n + 1"
   ]
  },
  {
   "cell_type": "markdown",
   "metadata": {},
   "source": [
    "<div style=\"background-color: rgba(0, 100, 200, .1); padding: 1em 3em; border-radius: 5px; border: 1px solid black\">\n",
    "    <div style=\"font-weight: bold; font-size: 1.2em; border-bottom: 1px dashed black; padding-bottom: .5em;\">\n",
    "        Mini Exercise -- Defining Functions\n",
    "    </div>\n",
    "    <ol>\n",
    "        <li>What is the difference between calling and defining a function?</li>\n",
    "        <li>\n",
    "            <p>What is the difference between the two code blocks below?</p>\n",
    "            <pre><code>def increment(n):\n",
    "    return n + 1</code></pre>\n",
    "            <pre><code>def increment(n):\n",
    "    print(n + 1)</code></pre>\n",
    "        </li>\n",
    "        <li>Create a function named <code>nonzero</code>. It should accept a number and return true if the number is anythong other than zero, false otherwise.</li>\n",
    "        <li>Use your <code>nonzero</code> function in combination with the built-in <code>input</code> function and an <code>if</code> statement to prompt the user for a number and print a message displaying whether or not the number is zero.</li>\n",
    "        <li>Transfer the work you have done into a function named <code>explain_nonzero</code>. Calling this function whould prompt the user and display the message as before.</li>\n",
    "    </ol>\n",
    "</div>"
   ]
  },
  {
   "cell_type": "markdown",
   "metadata": {},
   "source": [
    "### Default Parameter Values and Keyword Arguments"
   ]
  },
  {
   "cell_type": "code",
   "execution_count": null,
   "metadata": {},
   "outputs": [],
   "source": [
    "def sayhello(name=\"Easley\"):\n",
    "    return f\"Hello, {name}!\""
   ]
  },
  {
   "cell_type": "markdown",
   "metadata": {},
   "source": [
    "## Function Scope\n",
    "\n",
    "- defining variables inside/outside of functions\n",
    "- defines where a variable can be referenced"
   ]
  },
  {
   "cell_type": "markdown",
   "metadata": {},
   "source": [
    "<div style=\"padding: 1em 3em; border: 1px solid black;\">\n",
    "    <div style=\"font-weight: bold; font-size: 1.2em; border-bottom: 1px dashed black; padding-bottom: .5em;\">\n",
    "        Vocab\n",
    "    </div>\n",
    "    <ul>\n",
    "        <li>Scope</li>\n",
    "        <li>Global</li>\n",
    "        <li>Local</li>\n",
    "    </ul>\n",
    "</div>"
   ]
  },
  {
   "cell_type": "code",
   "execution_count": null,
   "metadata": {},
   "outputs": [],
   "source": [
    "# NB. function names and variables are very generic here because the concept is very generic\n",
    "def f():\n",
    "    x = 123\n",
    "\n",
    "f()    \n",
    "print(x)"
   ]
  },
  {
   "cell_type": "code",
   "execution_count": null,
   "metadata": {},
   "outputs": [],
   "source": [
    "x = 123\n",
    "\n",
    "def f():\n",
    "    print(x)\n",
    "\n",
    "f()    "
   ]
  },
  {
   "cell_type": "code",
   "execution_count": null,
   "metadata": {},
   "outputs": [],
   "source": [
    "x = 123\n",
    "\n",
    "def f(x):\n",
    "    return x + 1\n",
    "\n",
    "print(f(12))"
   ]
  },
  {
   "cell_type": "markdown",
   "metadata": {},
   "source": [
    "<div style=\"background-color: rgba(0, 100, 200, .1); padding: 1em 3em; border-radius: 5px; border: 1px solid black\">\n",
    "    <div style=\"font-weight: bold; font-size: 1.2em; border-bottom: 1px dashed black; padding-bottom: .5em;\">\n",
    "        Mini Exercise -- Function Scope\n",
    "    </div>\n",
    "    <ol>\n",
    "        <li>What is the difference between local and global scope? Which is preferred?</li>\n",
    "        <li>Take a look at the cell below this one. Before running it, think about what you would expect to happen. Explain step by step how the python code is executing.</li>\n",
    "    </ol>\n",
    "</div>"
   ]
  },
  {
   "cell_type": "code",
   "execution_count": null,
   "metadata": {},
   "outputs": [],
   "source": [
    "def changeit(x):\n",
    "    x = x + 1\n",
    "\n",
    "x = 42\n",
    "print(x)\n",
    "changeit(x)\n",
    "print(x)"
   ]
  },
  {
   "cell_type": "markdown",
   "metadata": {},
   "source": [
    "### Function Scope Example\n",
    "\n",
    "```python\n",
    "def fill_nulls(df):\n",
    "    return df.fillna(0)\n",
    "    \n",
    "def drop_outliers(df):\n",
    "    outlier_cutoff = 3\n",
    "    return df[df.zscore().abs() < 3]\n",
    "    \n",
    "def prep_dataframe(df):\n",
    "    df = fill_nulls(df)\n",
    "    df = drop_outliers(df)\n",
    "    return \n",
    "```"
   ]
  },
  {
   "cell_type": "markdown",
   "metadata": {},
   "source": [
    "[Data Prep example](https://github.com/CodeupClassroom/darden-nlp-exercises/blob/main/nlp_prepare.py). The specifics here aren't important right now, just pay attention to the overall shape of functions and how local scope is used."
   ]
  },
  {
   "cell_type": "markdown",
   "metadata": {},
   "source": [
    "## Lambda Functions\n",
    "\n",
    "- A function as an expression\n",
    "- used for \"throw away\", or one-off, functions"
   ]
  },
  {
   "cell_type": "code",
   "execution_count": null,
   "metadata": {},
   "outputs": [],
   "source": [
    "def increment(n):\n",
    "    return n + 1\n",
    "\n",
    "# same as\n",
    "\n",
    "increment = lambda n: n + 1"
   ]
  },
  {
   "cell_type": "markdown",
   "metadata": {},
   "source": [
    "**Use case**: sorting (min, max too)\n",
    "\n",
    "Python doesn't know how to compare dictionaries, but it does know how to compare strings or numbers"
   ]
  },
  {
   "cell_type": "code",
   "execution_count": null,
   "metadata": {},
   "outputs": [],
   "source": [
    "students = [\n",
    "    {\"name\": \"Ada Lovelace\", \"grade\": 87},\n",
    "    {\"name\": \"Thomas Bayes\", \"grade\": 89},\n",
    "    {\"name\": \"Christine Darden\", \"grade\": 99},\n",
    "    {\"name\": \"Annie Easley\", \"grade\": 94},\n",
    "    {\"name\": \"Marie Curie\", \"grade\": 97},\n",
    "]"
   ]
  },
  {
   "cell_type": "code",
   "execution_count": null,
   "metadata": {},
   "outputs": [],
   "source": [
    "# sort by name\n",
    "sorted(students, key=lambda s: s[\"name\"])"
   ]
  },
  {
   "cell_type": "code",
   "execution_count": null,
   "metadata": {},
   "outputs": [],
   "source": [
    "# sort by grade\n",
    "sorted(students, key=lambda s: s[\"grade\"])"
   ]
  },
  {
   "cell_type": "markdown",
   "metadata": {},
   "source": [
    "<div style=\"background-color: rgba(0, 100, 200, .1); padding: 1em 3em; border-radius: 5px; border: 1px solid black\">\n",
    "    <div style=\"font-weight: bold; font-size: 1.2em; border-bottom: 1px dashed black; padding-bottom: .5em;\">\n",
    "        Mini Exercise -- Lambda Functions &amp; Sorting\n",
    "    </div>\n",
    "    <p>Write the code necessary to sort the list of student dictionaries by student <em>last</em> name.</p>\n",
    "    <p>Hints:</p>\n",
    "    <ul>\n",
    "        <li>You will need to write a function that takes in a student dictionary and returns just the last name.</li>\n",
    "        <li>You can use the <code>.split</code> string method to seperate the first name and the last name.</li>\n",
    "    </ul>\n",
    "</div>"
   ]
  }
 ],
 "metadata": {
  "kernelspec": {
   "display_name": "Python 3",
   "language": "python",
   "name": "python3"
  },
  "language_info": {
   "codemirror_mode": {
    "name": "ipython",
    "version": 3
   },
   "file_extension": ".py",
   "mimetype": "text/x-python",
   "name": "python",
   "nbconvert_exporter": "python",
   "pygments_lexer": "ipython3",
   "version": "3.8.5"
  }
 },
 "nbformat": 4,
 "nbformat_minor": 4
}
