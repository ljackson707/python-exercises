{
 "cells": [
  {
   "cell_type": "markdown",
   "metadata": {},
   "source": [
    "# Python Functions\n",
    "\n",
    "- Context: what are functions? why are they helpful?\n",
    "     - They are reusable peices of code\n",
    "     - Takes an input to produce and output.\n",
    "     - Abstractions: (Print function) allow us to abstract away. "
   ]
  },
  {
   "cell_type": "markdown",
   "metadata": {},
   "source": [
    "## Using Functions"
   ]
  },
  {
   "cell_type": "markdown",
   "metadata": {},
   "source": [
    "<div style=\"padding: 1em 3em; border: 1px solid black;\">\n",
    "    <div style=\"font-weight: bold; font-size: 1.2em; border-bottom: 1px dashed black; padding-bottom: .5em;\">\n",
    "        Vocab\n",
    "    </div>\n",
    "    <ul>\n",
    "        <li>Run/invoke/call</li> # Start of function\n",
    "        <li>Argument</li> # Value passed to the function\n",
    "        <li>Return Value</li> # Result of evaluating the function call expression.\n",
    "    </ul>\n",
    "</div>"
   ]
  },
  {
   "cell_type": "code",
   "execution_count": 2,
   "metadata": {},
   "outputs": [
    {
     "data": {
      "text/plain": [
       "3"
      ]
     },
     "execution_count": 2,
     "metadata": {},
     "output_type": "execute_result"
    }
   ],
   "source": [
    "1 + 2"
   ]
  },
  {
   "cell_type": "code",
   "execution_count": 4,
   "metadata": {},
   "outputs": [
    {
     "data": {
      "text/plain": [
       "123"
      ]
     },
     "execution_count": 4,
     "metadata": {},
     "output_type": "execute_result"
    }
   ],
   "source": [
    "int(123) #Int = call #Argument = string 123 and #Return of 123"
   ]
  },
  {
   "cell_type": "markdown",
   "metadata": {},
   "source": [
    "We've already used built-in functions"
   ]
  },
  {
   "cell_type": "markdown",
   "metadata": {},
   "source": [
    "<div style=\"background-color: rgba(0, 100, 200, .1); padding: 1em 3em; border-radius: 5px; border: 1px solid black\">\n",
    "    <div style=\"font-weight: bold; font-size: 1.2em; border-bottom: 1px dashed black; padding-bottom: .5em;\">\n",
    "        Mini Exercise -- Using Functions\n",
    "    </div>\n",
    "    <ol>\n",
    "        <li>\n",
    "            <p>Take a look at this code snippet:</p>\n",
    "            <pre><code>max([1, 2, 3])</code></pre>\n",
    "            <p>What is the function name?</p>\n",
    "            # Max \n",
    "            <p>Where is the function invocation?</p>\n",
    "            # On [1, 2, 3]\n",
    "            <p>What is the return value?</p>\n",
    "            # 3\n",
    "        </li>\n",
    "        <li>\n",
    "            <p>Take a look at this code snippet:</p>\n",
    "            <pre><code>type(max([1, 2, 3]))</code></pre>\n",
    "            <p>What will the output be? Why?</p>\n",
    "        </li>\n",
    "        <li>\n",
    "            <p>Take a look at this code snippet:</p>\n",
    "            <pre><code>type(max)</code></pre>\n",
    "            <p>What will the output be? Why?</p>\n",
    "        </li>\n",
    "        <li>\n",
    "            <p>What is the difference between the two code blocks below?</p>\n",
    "            <pre><code>print</code></pre>\n",
    "            <pre><code>print()</code></pre>\n",
    "        </li>\n",
    "        <li>What other built in functions do you know?</li>\n",
    "    </ol>\n",
    "</div>"
   ]
  },
  {
   "cell_type": "code",
   "execution_count": 7,
   "metadata": {},
   "outputs": [
    {
     "data": {
      "text/plain": [
       "3"
      ]
     },
     "execution_count": 7,
     "metadata": {},
     "output_type": "execute_result"
    }
   ],
   "source": [
    "max([1,2,3])"
   ]
  },
  {
   "cell_type": "code",
   "execution_count": 11,
   "metadata": {},
   "outputs": [
    {
     "data": {
      "text/plain": [
       "int"
      ]
     },
     "execution_count": 11,
     "metadata": {},
     "output_type": "execute_result"
    }
   ],
   "source": [
    "type(max([1,2,3]))"
   ]
  },
  {
   "cell_type": "code",
   "execution_count": 16,
   "metadata": {},
   "outputs": [
    {
     "data": {
      "text/plain": [
       "builtin_function_or_method"
      ]
     },
     "execution_count": 16,
     "metadata": {},
     "output_type": "execute_result"
    }
   ],
   "source": [
    "type(max)"
   ]
  },
  {
   "cell_type": "code",
   "execution_count": 14,
   "metadata": {},
   "outputs": [
    {
     "data": {
      "text/plain": [
       "<function print>"
      ]
     },
     "execution_count": 14,
     "metadata": {},
     "output_type": "execute_result"
    }
   ],
   "source": [
    "print # refrences the print function"
   ]
  },
  {
   "cell_type": "code",
   "execution_count": 17,
   "metadata": {},
   "outputs": [
    {
     "name": "stdout",
     "output_type": "stream",
     "text": [
      "\n"
     ]
    }
   ],
   "source": [
    "print() #invoking the function/ calling th function"
   ]
  },
  {
   "cell_type": "markdown",
   "metadata": {},
   "source": [
    "# Function signiture\n",
    "### e.g.\n",
    "max(l: list(int))-> int\n",
    "\n",
    "### What are the signitures for \n",
    "- print()\n",
    "    -  print(x) -> none\n",
    "    - can not store a value in print\n",
    "- range()\n",
    "    - takes in two arguments, both int, and returns a list(range) of ints\n",
    "    - range(start: int, stop: int[, step: int]) -> list[int]"
   ]
  },
  {
   "cell_type": "markdown",
   "metadata": {},
   "source": [
    "# Other types of built-in functions\n",
    "- max()\n",
    "- min()\n",
    "- range()\n",
    "- print()\n",
    "- return()"
   ]
  },
  {
   "cell_type": "markdown",
   "metadata": {},
   "source": [
    "## Defining Functions"
   ]
  },
  {
   "cell_type": "markdown",
   "metadata": {},
   "source": [
    "<div style=\"padding: 1em 3em; border: 1px solid black;\">\n",
    "    <div style=\"font-weight: bold; font-size: 1.2em; border-bottom: 1px dashed black; padding-bottom: .5em;\">\n",
    "        Vocab\n",
    "    </div>\n",
    "    <ul>\n",
    "        <li>Function Definition</li>\n",
    "        <li>Function Name</li>\n",
    "        <li>Argument</li>\n",
    "        <li>Parameter</li>\n",
    "        <li>Function Body</li>\n",
    "    </ul>\n",
    "</div>"
   ]
  },
  {
   "cell_type": "code",
   "execution_count": 13,
   "metadata": {},
   "outputs": [
    {
     "data": {
      "text/plain": [
       "3"
      ]
     },
     "execution_count": 13,
     "metadata": {},
     "output_type": "execute_result"
    }
   ],
   "source": [
    "def increment(n):\n",
    "    return n + 1\n",
    "\n",
    "increment(2) # calling the function  \n",
    "# 2 isthe argument to the invocation of the incremented function."
   ]
  },
  {
   "cell_type": "markdown",
   "metadata": {},
   "source": [
    "<div style=\"background-color: rgba(0, 100, 200, .1); padding: 1em 3em; border-radius: 5px; border: 1px solid black\">\n",
    "    <div style=\"font-weight: bold; font-size: 1.2em; border-bottom: 1px dashed black; padding-bottom: .5em;\">\n",
    "        Mini Exercise -- Defining Functions\n",
    "    </div>\n",
    "    <ol>\n",
    "        <li>What is the difference between calling and defining a function?</li>\n",
    "        <li>\n",
    "            <p>What is the difference between the two code blocks below?</p>\n",
    "            <pre><code>def increment(n):\n",
    "    return n + 1</code></pre>\n",
    "            <pre><code>def increment(n):\n",
    "    print(n + 1)</code></pre>\n",
    "        </li>\n",
    "        <li>Create a function named <code>nonzero</code>. It should accept a number and return true if the number is anythong other than zero, false otherwise.</li>\n",
    "        <li>Use your <code>nonzero</code> function in combination with the built-in <code>input</code> function and an <code>if</code> statement to prompt the user for a number and print a message displaying whether or not the number is zero.</li>\n",
    "        <li>Transfer the work you have done into a function named <code>explain_nonzero</code>. Calling this function whould prompt the user and display the message as before.</li>\n",
    "    </ol>\n",
    "</div>"
   ]
  },
  {
   "cell_type": "code",
   "execution_count": 16,
   "metadata": {},
   "outputs": [
    {
     "name": "stdout",
     "output_type": "stream",
     "text": [
      "4\n"
     ]
    }
   ],
   "source": [
    "def increment(n):\n",
    "    print(n + 1)\n",
    "increment(3)"
   ]
  },
  {
   "cell_type": "code",
   "execution_count": 17,
   "metadata": {},
   "outputs": [
    {
     "data": {
      "text/plain": [
       "4"
      ]
     },
     "execution_count": 17,
     "metadata": {},
     "output_type": "execute_result"
    }
   ],
   "source": [
    "def increment(n):\n",
    "    return n + 1\n",
    "increment(3)"
   ]
  },
  {
   "cell_type": "code",
   "execution_count": null,
   "metadata": {},
   "outputs": [],
   "source": [
    "def nonezero(n):\n",
    "    if n != 0:\n",
    "        return True\n",
    "    else: \n",
    "        return False\n",
    "nonezero(2)"
   ]
  },
  {
   "cell_type": "code",
   "execution_count": 58,
   "metadata": {},
   "outputs": [
    {
     "name": "stdout",
     "output_type": "stream",
     "text": [
      "Please enter a number: 0\n",
      "0 is equal to 0\n",
      "More numbers? y\n",
      "Please enter a number: 5\n",
      "5 is not equal to 0\n",
      "More numbers? n\n"
     ]
    }
   ],
   "source": [
    "while True:    \n",
    "    n = int(input(\"Please enter a number: \"))\n",
    "\n",
    "    if n != 0:\n",
    "        print(f\"{n} is not equal to 0\")\n",
    "    elif n == 0: \n",
    "        print(f\"{n} is equal to 0\")\n",
    "    else: \n",
    "        print(\"Not a number\")\n",
    "    Continue = input(\"More numbers? \")\n",
    "    if not Continue.lower().startswith(\"y\"):\n",
    "        break"
   ]
  },
  {
   "cell_type": "code",
   "execution_count": 66,
   "metadata": {},
   "outputs": [],
   "source": [
    "def explain_nonezero():    \n",
    "    n = int(input(\"Please enter a number: \"))\n",
    "\n",
    "    if n != 0:\n",
    "        print(f\"{n} is not equal to 0\")\n",
    "    elif n == 0: \n",
    "        print(f\"{n} is equal to 0\")\n",
    "    else: \n",
    "        print(\"Not a number\")"
   ]
  },
  {
   "cell_type": "code",
   "execution_count": 68,
   "metadata": {},
   "outputs": [
    {
     "name": "stdout",
     "output_type": "stream",
     "text": [
      "Please enter a number: 0\n",
      "0 is equal to 0\n"
     ]
    }
   ],
   "source": [
    "explain_nonezero() # must use this to call a def funtion \n",
    "                    #rather than just running it as before"
   ]
  },
  {
   "cell_type": "code",
   "execution_count": 79,
   "metadata": {},
   "outputs": [],
   "source": [
    "def increment(n):\n",
    "    return n + 1\n",
    "assert increment(3) == 4"
   ]
  },
  {
   "cell_type": "code",
   "execution_count": 74,
   "metadata": {},
   "outputs": [
    {
     "name": "stdout",
     "output_type": "stream",
     "text": [
      "4\n"
     ]
    },
    {
     "ename": "AssertionError",
     "evalue": "",
     "output_type": "error",
     "traceback": [
      "\u001b[0;31m---------------------------------------------------------------------------\u001b[0m",
      "\u001b[0;31mAssertionError\u001b[0m                            Traceback (most recent call last)",
      "\u001b[0;32m<ipython-input-74-14cd7f9292db>\u001b[0m in \u001b[0;36m<module>\u001b[0;34m\u001b[0m\n\u001b[1;32m      1\u001b[0m \u001b[0;32mdef\u001b[0m \u001b[0mincrement\u001b[0m\u001b[0;34m(\u001b[0m\u001b[0mn\u001b[0m\u001b[0;34m)\u001b[0m\u001b[0;34m:\u001b[0m\u001b[0;34m\u001b[0m\u001b[0;34m\u001b[0m\u001b[0m\n\u001b[1;32m      2\u001b[0m     \u001b[0mprint\u001b[0m\u001b[0;34m(\u001b[0m\u001b[0mn\u001b[0m \u001b[0;34m+\u001b[0m \u001b[0;36m1\u001b[0m\u001b[0;34m)\u001b[0m\u001b[0;34m\u001b[0m\u001b[0;34m\u001b[0m\u001b[0m\n\u001b[0;32m----> 3\u001b[0;31m \u001b[0;32massert\u001b[0m \u001b[0mincrement\u001b[0m\u001b[0;34m(\u001b[0m\u001b[0;36m3\u001b[0m\u001b[0;34m)\u001b[0m \u001b[0;34m==\u001b[0m \u001b[0;36m4\u001b[0m \u001b[0;31m# we see the 4 printed but the function did not return the value 4 so we get an assertion error\u001b[0m\u001b[0;34m\u001b[0m\u001b[0;34m\u001b[0m\u001b[0m\n\u001b[0m",
      "\u001b[0;31mAssertionError\u001b[0m: "
     ]
    }
   ],
   "source": [
    "def increment(n):\n",
    "    print(n + 1)\n",
    "assert increment(3) == 4 \n",
    "# We see the 4 printed but the function did not return the value 4 so we get an assertion error"
   ]
  },
  {
   "cell_type": "markdown",
   "metadata": {},
   "source": [
    "- what happens if we omit the return keyword?\n",
    "    - the function does not return a value.\n",
    "    - the function call expression evaluates to None\n",
    "- when is this useful?\n",
    "- for side effects\n",
    "     - 'square_and_double(x)': Produces a Value\n",
    "     - 'insert_book_into_database(book)': Has a side effect "
   ]
  },
  {
   "cell_type": "markdown",
   "metadata": {},
   "source": [
    "### Default Parameter Values and Keyword Arguments"
   ]
  },
  {
   "cell_type": "code",
   "execution_count": 12,
   "metadata": {},
   "outputs": [],
   "source": [
    "# sayhello(name: str) -> str  *(function signiture)*\n",
    "def sayhello(name=\"Easley\"):\n",
    "    return f\"Hello, {name}!\"\n",
    "\n",
    "# The name parameter has a default value of \"Easley\""
   ]
  },
  {
   "cell_type": "code",
   "execution_count": 82,
   "metadata": {},
   "outputs": [
    {
     "data": {
      "text/plain": [
       "'Hello, Easley!'"
      ]
     },
     "execution_count": 82,
     "metadata": {},
     "output_type": "execute_result"
    }
   ],
   "source": [
    "sayhello() # Calls the function so it prints"
   ]
  },
  {
   "cell_type": "code",
   "execution_count": 83,
   "metadata": {},
   "outputs": [
    {
     "data": {
      "text/plain": [
       "'Hello, class!'"
      ]
     },
     "execution_count": 83,
     "metadata": {},
     "output_type": "execute_result"
    }
   ],
   "source": [
    "sayhello(\"class\") # can update the name value"
   ]
  },
  {
   "cell_type": "code",
   "execution_count": 90,
   "metadata": {},
   "outputs": [],
   "source": [
    "# More customization \n",
    "\n",
    "def sayhello(name=\"Easley\", greeting=\"Hello\"):\n",
    "    return f\"{greeting}, {name}!\""
   ]
  },
  {
   "cell_type": "code",
   "execution_count": 85,
   "metadata": {},
   "outputs": [
    {
     "data": {
      "text/plain": [
       "'Hello, Easley!'"
      ]
     },
     "execution_count": 85,
     "metadata": {},
     "output_type": "execute_result"
    }
   ],
   "source": [
    "sayhello()"
   ]
  },
  {
   "cell_type": "code",
   "execution_count": 91,
   "metadata": {},
   "outputs": [
    {
     "data": {
      "text/plain": [
       "'Good Afternoon, Class!'"
      ]
     },
     "execution_count": 91,
     "metadata": {},
     "output_type": "execute_result"
    }
   ],
   "source": [
    "sayhello(\"Class\", \"Good Afternoon\") # defined by their position"
   ]
  },
  {
   "cell_type": "code",
   "execution_count": 92,
   "metadata": {},
   "outputs": [
    {
     "data": {
      "text/plain": [
       "'Salutations, Easley!'"
      ]
     },
     "execution_count": 92,
     "metadata": {},
     "output_type": "execute_result"
    }
   ],
   "source": [
    "sayhello(greeting=\"Salutations\") # defined as keyword"
   ]
  },
  {
   "cell_type": "code",
   "execution_count": 94,
   "metadata": {},
   "outputs": [
    {
     "data": {
      "text/plain": [
       "'Salutations, Class!'"
      ]
     },
     "execution_count": 94,
     "metadata": {},
     "output_type": "execute_result"
    }
   ],
   "source": [
    "sayhello(greeting=\"Salutations\", name=\"Class\")"
   ]
  },
  {
   "cell_type": "markdown",
   "metadata": {},
   "source": [
    "- postitional arguments parameter defined by position or order\n",
    "- keyword arguments parameter defined by keyword"
   ]
  },
  {
   "cell_type": "markdown",
   "metadata": {},
   "source": [
    "## Function Scope\n",
    "\n",
    "- defining variables inside/outside of functions\n",
    "- defines where a variable can be referenced"
   ]
  },
  {
   "cell_type": "markdown",
   "metadata": {},
   "source": [
    "<div style=\"padding: 1em 3em; border: 1px solid black;\">\n",
    "    <div style=\"font-weight: bold; font-size: 1.2em; border-bottom: 1px dashed black; padding-bottom: .5em;\">\n",
    "        Vocab\n",
    "    </div>\n",
    "    <ul>\n",
    "        <li>Scope</li>\n",
    "        <li>Global</li>\n",
    "        <li>Local</li>\n",
    "    </ul>\n",
    "</div>"
   ]
  },
  {
   "cell_type": "code",
   "execution_count": 100,
   "metadata": {},
   "outputs": [
    {
     "ename": "NameError",
     "evalue": "name 'x' is not defined",
     "output_type": "error",
     "traceback": [
      "\u001b[0;31m---------------------------------------------------------------------------\u001b[0m",
      "\u001b[0;31mNameError\u001b[0m                                 Traceback (most recent call last)",
      "\u001b[0;32m<ipython-input-100-530600c78897>\u001b[0m in \u001b[0;36m<module>\u001b[0;34m\u001b[0m\n\u001b[1;32m      4\u001b[0m \u001b[0;34m\u001b[0m\u001b[0m\n\u001b[1;32m      5\u001b[0m \u001b[0mf\u001b[0m\u001b[0;34m(\u001b[0m\u001b[0;34m)\u001b[0m\u001b[0;34m\u001b[0m\u001b[0;34m\u001b[0m\u001b[0m\n\u001b[0;32m----> 6\u001b[0;31m \u001b[0mprint\u001b[0m\u001b[0;34m(\u001b[0m\u001b[0mx\u001b[0m\u001b[0;34m)\u001b[0m\u001b[0;34m\u001b[0m\u001b[0;34m\u001b[0m\u001b[0m\n\u001b[0m",
      "\u001b[0;31mNameError\u001b[0m: name 'x' is not defined"
     ]
    }
   ],
   "source": [
    "# NB. function names and variables are very generic here because the concept is very generic\n",
    "def f():\n",
    "    x = 123 # variable x has a local scope (b/c its inside the body of the function)\n",
    "\n",
    "f()    \n",
    "print(x) # does not print because x is not in outside world"
   ]
  },
  {
   "cell_type": "code",
   "execution_count": 101,
   "metadata": {},
   "outputs": [
    {
     "name": "stdout",
     "output_type": "stream",
     "text": [
      "123\n"
     ]
    }
   ],
   "source": [
    "x = 123 # (x variable is golbaly defined variable)\n",
    "\n",
    "def f():\n",
    "    print(x)\n",
    "\n",
    "f()    "
   ]
  },
  {
   "cell_type": "markdown",
   "metadata": {},
   "source": [
    "## Why would yo use a global scope vs local scope? \n",
    "### Which is preferd?\n",
    "- short answer: prefer local scope, ise global sparingly when a variable needs to be refrenced from within multiple functions."
   ]
  },
  {
   "cell_type": "code",
   "execution_count": 107,
   "metadata": {},
   "outputs": [
    {
     "name": "stdout",
     "output_type": "stream",
     "text": [
      "13\n"
     ]
    }
   ],
   "source": [
    "x = 123\n",
    "\n",
    "def f(x):\n",
    "    return x + 1\n",
    "\n",
    "print(f(12)) # only prints f() (Only calling from the local scope)"
   ]
  },
  {
   "cell_type": "code",
   "execution_count": 106,
   "metadata": {},
   "outputs": [
    {
     "name": "stdout",
     "output_type": "stream",
     "text": [
      "13 123\n"
     ]
    }
   ],
   "source": [
    "x = 123\n",
    "\n",
    "def f(x):\n",
    "    return x + 1\n",
    "\n",
    "print(f(12), x) # Also prints x (calling from local scope and global scope)"
   ]
  },
  {
   "cell_type": "markdown",
   "metadata": {},
   "source": [
    "<div style=\"background-color: rgba(0, 100, 200, .1); padding: 1em 3em; border-radius: 5px; border: 1px solid black\">\n",
    "    <div style=\"font-weight: bold; font-size: 1.2em; border-bottom: 1px dashed black; padding-bottom: .5em;\">\n",
    "        Mini Exercise -- Function Scope\n",
    "    </div>\n",
    "    <ol>\n",
    "        <li>What is the difference between local and global scope? Which is preferred?</li>\n",
    "        <li>Take a look at the cell below this one. Before running it, think about what you would expect to happen. Explain step by step how the python code is executing.</li>\n",
    "    </ol>\n",
    "</div>"
   ]
  },
  {
   "cell_type": "code",
   "execution_count": 121,
   "metadata": {},
   "outputs": [
    {
     "name": "stdout",
     "output_type": "stream",
     "text": [
      "42\n",
      "42\n"
     ]
    }
   ],
   "source": [
    "def changeit(x):\n",
    "    x = x + 1\n",
    "\n",
    "x = 42\n",
    "print(x)\n",
    "changeit(x) # there is not chnage for changeit() because x is local to the function while the golbal x is unchnaged.\n",
    "print(x)"
   ]
  },
  {
   "cell_type": "code",
   "execution_count": 124,
   "metadata": {},
   "outputs": [
    {
     "name": "stdout",
     "output_type": "stream",
     "text": [
      "42\n",
      "43\n",
      "42\n"
     ]
    }
   ],
   "source": [
    "def changeit(x):\n",
    "    return x + 1\n",
    "\n",
    "x = 42\n",
    "print(x)\n",
    "print(changeit(x)) #This is how you would get the changeit(x) to print\n",
    "print(x)"
   ]
  },
  {
   "cell_type": "markdown",
   "metadata": {},
   "source": [
    "- perfere local scope \n",
    "- avoid re-assigning global variables "
   ]
  },
  {
   "cell_type": "markdown",
   "metadata": {},
   "source": [
    "### Function Scope Example\n",
    "\n",
    "```python\n",
    "def fill_nulls(df):\n",
    "    return df.fillna(0)\n",
    "    \n",
    "def drop_outliers(df):\n",
    "    outlier_cutoff = 3\n",
    "    return df[df.zscore().abs() < 3]\n",
    "    \n",
    "def prep_dataframe(df):\n",
    "    df = fill_nulls(df)\n",
    "    df = drop_outliers(df)\n",
    "    return \n",
    "```"
   ]
  },
  {
   "cell_type": "markdown",
   "metadata": {},
   "source": [
    "[Data Prep example](https://github.com/CodeupClassroom/darden-nlp-exercises/blob/main/nlp_prepare.py). The specifics here aren't important right now, just pay attention to the overall shape of functions and how local scope is used."
   ]
  },
  {
   "cell_type": "markdown",
   "metadata": {},
   "source": [
    "## Lambda Functions\n",
    "\n",
    "- A function as an expression\n",
    "- used for \"throw away\", or one-off, functions"
   ]
  },
  {
   "cell_type": "code",
   "execution_count": 125,
   "metadata": {},
   "outputs": [],
   "source": [
    "# Useful in pandas and dataframes\n",
    "\n",
    "def increment(n):\n",
    "    return n + 1\n",
    "\n",
    "# same as\n",
    "\n",
    "increment = lambda n: n + 1"
   ]
  },
  {
   "cell_type": "markdown",
   "metadata": {},
   "source": [
    "**Use case**: sorting (min, max too)\n",
    "\n",
    "Python doesn't know how to compare dictionaries, but it does know how to compare strings or numbers"
   ]
  },
  {
   "cell_type": "code",
   "execution_count": 127,
   "metadata": {},
   "outputs": [],
   "source": [
    "students = [\n",
    "    {\"name\": \"Ada Lovelace\", \"grade\": 87},\n",
    "    {\"name\": \"Thomas Bayes\", \"grade\": 89},\n",
    "    {\"name\": \"Christine Darden\", \"grade\": 99},\n",
    "    {\"name\": \"Annie Easley\", \"grade\": 94},\n",
    "    {\"name\": \"Marie Curie\", \"grade\": 97},\n",
    "]"
   ]
  },
  {
   "cell_type": "code",
   "execution_count": 130,
   "metadata": {},
   "outputs": [
    {
     "data": {
      "text/plain": [
       "[-4, 1, 3, 5, 100]"
      ]
     },
     "execution_count": 130,
     "metadata": {},
     "output_type": "execute_result"
    }
   ],
   "source": [
    "sorted([3, 1, 5, 100, -4])"
   ]
  },
  {
   "cell_type": "code",
   "execution_count": 128,
   "metadata": {},
   "outputs": [
    {
     "data": {
      "text/plain": [
       "[{'name': 'Ada Lovelace', 'grade': 87},\n",
       " {'name': 'Annie Easley', 'grade': 94},\n",
       " {'name': 'Christine Darden', 'grade': 99},\n",
       " {'name': 'Marie Curie', 'grade': 97},\n",
       " {'name': 'Thomas Bayes', 'grade': 89}]"
      ]
     },
     "execution_count": 128,
     "metadata": {},
     "output_type": "execute_result"
    }
   ],
   "source": [
    "# sort by name\n",
    "sorted(students, key=lambda s: s[\"name\"])"
   ]
  },
  {
   "cell_type": "code",
   "execution_count": 133,
   "metadata": {},
   "outputs": [
    {
     "data": {
      "text/plain": [
       "[{'name': 'Ada Lovelace', 'grade': 87},\n",
       " {'name': 'Thomas Bayes', 'grade': 89},\n",
       " {'name': 'Annie Easley', 'grade': 94},\n",
       " {'name': 'Marie Curie', 'grade': 97},\n",
       " {'name': 'Christine Darden', 'grade': 99}]"
      ]
     },
     "execution_count": 133,
     "metadata": {},
     "output_type": "execute_result"
    }
   ],
   "source": [
    "# sort by grade\n",
    "sorted(students, key=lambda s: s[\"grade\"]) # defaults low to high "
   ]
  },
  {
   "cell_type": "code",
   "execution_count": 134,
   "metadata": {},
   "outputs": [
    {
     "data": {
      "text/plain": [
       "[{'name': 'Christine Darden', 'grade': 99},\n",
       " {'name': 'Marie Curie', 'grade': 97},\n",
       " {'name': 'Annie Easley', 'grade': 94},\n",
       " {'name': 'Thomas Bayes', 'grade': 89},\n",
       " {'name': 'Ada Lovelace', 'grade': 87}]"
      ]
     },
     "execution_count": 134,
     "metadata": {},
     "output_type": "execute_result"
    }
   ],
   "source": [
    "sorted(students, key=lambda s: -s[\"grade\"]) # sort from high to low"
   ]
  },
  {
   "cell_type": "markdown",
   "metadata": {},
   "source": [
    "<div style=\"background-color: rgba(0, 100, 200, .1); padding: 1em 3em; border-radius: 5px; border: 1px solid black\">\n",
    "    <div style=\"font-weight: bold; font-size: 1.2em; border-bottom: 1px dashed black; padding-bottom: .5em;\">\n",
    "        Mini Exercise -- Lambda Functions &amp; Sorting\n",
    "    </div>\n",
    "    <p>Write the code necessary to sort the list of student dictionaries by student <em>last</em> name.</p>\n",
    "    <p>Hints:</p>\n",
    "    <ul>\n",
    "        <li>You will need to write a function that takes in a student dictionary and returns just the last name.</li>\n",
    "        <li>You can use the <code>.split</code> string method to seperate the first name and the last name.</li>\n",
    "    </ul>\n",
    "</div>"
   ]
  },
  {
   "cell_type": "code",
   "execution_count": 170,
   "metadata": {},
   "outputs": [
    {
     "data": {
      "text/plain": [
       "'Lovelace'"
      ]
     },
     "execution_count": 170,
     "metadata": {},
     "output_type": "execute_result"
    }
   ],
   "source": [
    "student = {'name': 'Ada Lovelace', 'grade': 87}\n",
    "\n",
    "student['name'].split(' ')[-1]\n"
   ]
  },
  {
   "cell_type": "code",
   "execution_count": 171,
   "metadata": {},
   "outputs": [
    {
     "ename": "TypeError",
     "evalue": "string indices must be integers",
     "output_type": "error",
     "traceback": [
      "\u001b[0;31m---------------------------------------------------------------------------\u001b[0m",
      "\u001b[0;31mTypeError\u001b[0m                                 Traceback (most recent call last)",
      "\u001b[0;32m<ipython-input-171-051030660631>\u001b[0m in \u001b[0;36m<module>\u001b[0;34m\u001b[0m\n\u001b[0;32m----> 1\u001b[0;31m \u001b[0msorted\u001b[0m\u001b[0;34m(\u001b[0m\u001b[0mstudents\u001b[0m\u001b[0;34m,\u001b[0m \u001b[0mkey\u001b[0m\u001b[0;34m=\u001b[0m\u001b[0;32mlambda\u001b[0m \u001b[0ms\u001b[0m\u001b[0;34m:\u001b[0m \u001b[0ms\u001b[0m\u001b[0;34m[\u001b[0m\u001b[0;34m\"name\"\u001b[0m\u001b[0;34m]\u001b[0m\u001b[0;34m.\u001b[0m\u001b[0msplit\u001b[0m\u001b[0;34m(\u001b[0m\u001b[0;34m\" \"\u001b[0m\u001b[0;34m)\u001b[0m\u001b[0;34m[\u001b[0m\u001b[0;34m-\u001b[0m\u001b[0;36m1\u001b[0m\u001b[0;34m]\u001b[0m\u001b[0;34m)\u001b[0m\u001b[0;34m\u001b[0m\u001b[0;34m\u001b[0m\u001b[0m\n\u001b[0m",
      "\u001b[0;32m<ipython-input-171-051030660631>\u001b[0m in \u001b[0;36m<lambda>\u001b[0;34m(s)\u001b[0m\n\u001b[0;32m----> 1\u001b[0;31m \u001b[0msorted\u001b[0m\u001b[0;34m(\u001b[0m\u001b[0mstudents\u001b[0m\u001b[0;34m,\u001b[0m \u001b[0mkey\u001b[0m\u001b[0;34m=\u001b[0m\u001b[0;32mlambda\u001b[0m \u001b[0ms\u001b[0m\u001b[0;34m:\u001b[0m \u001b[0ms\u001b[0m\u001b[0;34m[\u001b[0m\u001b[0;34m\"name\"\u001b[0m\u001b[0;34m]\u001b[0m\u001b[0;34m.\u001b[0m\u001b[0msplit\u001b[0m\u001b[0;34m(\u001b[0m\u001b[0;34m\" \"\u001b[0m\u001b[0;34m)\u001b[0m\u001b[0;34m[\u001b[0m\u001b[0;34m-\u001b[0m\u001b[0;36m1\u001b[0m\u001b[0;34m]\u001b[0m\u001b[0;34m)\u001b[0m\u001b[0;34m\u001b[0m\u001b[0;34m\u001b[0m\u001b[0m\n\u001b[0m",
      "\u001b[0;31mTypeError\u001b[0m: string indices must be integers"
     ]
    }
   ],
   "source": [
    "sorted(students, key=lambda s: s[\"name\"].split(\" \")[-1]) "
   ]
  },
  {
   "cell_type": "code",
   "execution_count": null,
   "metadata": {},
   "outputs": [],
   "source": []
  }
 ],
 "metadata": {
  "kernelspec": {
   "display_name": "Python 3",
   "language": "python",
   "name": "python3"
  },
  "language_info": {
   "codemirror_mode": {
    "name": "ipython",
    "version": 3
   },
   "file_extension": ".py",
   "mimetype": "text/x-python",
   "name": "python",
   "nbconvert_exporter": "python",
   "pygments_lexer": "ipython3",
   "version": "3.8.5"
  }
 },
 "nbformat": 4,
 "nbformat_minor": 4
}
