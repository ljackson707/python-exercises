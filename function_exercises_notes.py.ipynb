{
 "cells": [
  {
   "cell_type": "code",
   "execution_count": 199,
   "metadata": {},
   "outputs": [
    {
     "data": {
      "text/plain": [
       "True"
      ]
     },
     "execution_count": 199,
     "metadata": {},
     "output_type": "execute_result"
    }
   ],
   "source": [
    "#1 # is_two[anything] -> bool (signiture)\n",
    "def is_two(n):  \n",
    "    if n == 2 or n == \"2\":\n",
    "        return True\n",
    "    else:\n",
    "        return False\n",
    "is_two(2)"
   ]
  },
  {
   "cell_type": "code",
   "execution_count": 206,
   "metadata": {},
   "outputs": [
    {
     "data": {
      "text/plain": [
       "True"
      ]
     },
     "execution_count": 206,
     "metadata": {},
     "output_type": "execute_result"
    }
   ],
   "source": [
    "#2 is_vowels[letter: str] -> bool\n",
    "vowels = [\"a\",\"e\",\"i\",\"o\",\"u\"]\n",
    "\n",
    "def is_vowel(letter):\n",
    "    if letter in vowels:\n",
    "        return True\n",
    "    else:\n",
    "        return False\n",
    "is_vowel(\"a\")"
   ]
  },
  {
   "cell_type": "code",
   "execution_count": 214,
   "metadata": {},
   "outputs": [
    {
     "data": {
      "text/plain": [
       "True"
      ]
     },
     "execution_count": 214,
     "metadata": {},
     "output_type": "execute_result"
    }
   ],
   "source": [
    "# or \n",
    "def is_vowel(letter):\n",
    "    vowels = [\"a\",\"e\",\"i\",\"o\",\"u\"]\n",
    "    return letter.lower() in vowels\n",
    "\n",
    "is_vowel(\"u\")"
   ]
  },
  {
   "cell_type": "code",
   "execution_count": 226,
   "metadata": {},
   "outputs": [
    {
     "data": {
      "text/plain": [
       "True"
      ]
     },
     "execution_count": 226,
     "metadata": {},
     "output_type": "execute_result"
    }
   ],
   "source": [
    "#3 is_consonant(letter: str) -> bool\n",
    "vowels = [\"a\",\"e\",\"i\",\"o\",\"u\"]\n",
    "def is_consonant(letter):\n",
    "    return letter.isalpha() and not is_vowel(letter)\n",
    "is_consonant(\"M\")"
   ]
  },
  {
   "cell_type": "code",
   "execution_count": 235,
   "metadata": {},
   "outputs": [
    {
     "data": {
      "text/plain": [
       "'Li'"
      ]
     },
     "execution_count": 235,
     "metadata": {},
     "output_type": "execute_result"
    }
   ],
   "source": [
    "#4 cap_word(word: str) -> str\n",
    "def cap_word(word):\n",
    "    for n in word[0]:\n",
    "        if is_consonant(n):\n",
    "            return(f\"{word}\".capitalize())\n",
    "        else:\n",
    "            return word\n",
    "cap_word(\"Li\")\n"
   ]
  },
  {
   "cell_type": "code",
   "execution_count": 244,
   "metadata": {},
   "outputs": [
    {
     "data": {
      "text/plain": [
       "25.07"
      ]
     },
     "execution_count": 244,
     "metadata": {},
     "output_type": "execute_result"
    }
   ],
   "source": [
    "#5 calculate_tip(percentage: float, bill: float) -> float\n",
    "def calculate_tip(percent, bill):\n",
    "    tip_amount = percent*bill\n",
    "    return round(tip_amount, 2)\n",
    "calculate_tip(.25, 100.27)\n"
   ]
  },
  {
   "cell_type": "code",
   "execution_count": 242,
   "metadata": {},
   "outputs": [
    {
     "data": {
      "text/plain": [
       "25.0"
      ]
     },
     "execution_count": 242,
     "metadata": {},
     "output_type": "execute_result"
    }
   ],
   "source": [
    "# or\n",
    "def calculate_tip(percent, bill):\n",
    "    if percent > 1:\n",
    "        percent /= 100 # Allows user to put in whole number as percentage.\n",
    "    tip_amount = percent*bill\n",
    "    return tip_amount\n",
    "calculate_tip(.25, 100) "
   ]
  },
  {
   "cell_type": "code",
   "execution_count": 251,
   "metadata": {},
   "outputs": [
    {
     "data": {
      "text/plain": [
       "95.0"
      ]
     },
     "execution_count": 251,
     "metadata": {},
     "output_type": "execute_result"
    }
   ],
   "source": [
    "#6 apply_discount(price: float discount: float) -> float\n",
    "def apply_discount(price, discount):\n",
    "    return price-(price*discount)\n",
    "apply_discount(100, .05)"
   ]
  },
  {
   "cell_type": "code",
   "execution_count": 257,
   "metadata": {},
   "outputs": [
    {
     "data": {
      "text/plain": [
       "10002.0"
      ]
     },
     "execution_count": 257,
     "metadata": {},
     "output_type": "execute_result"
    }
   ],
   "source": [
    "#7 handle_commas(string: str) -> float\n",
    "def handle_commas(string):\n",
    "    return float(string.replace(',',''))\n",
    "handle_commas(\"1,000,2\")"
   ]
  },
  {
   "cell_type": "code",
   "execution_count": 258,
   "metadata": {},
   "outputs": [
    {
     "data": {
      "text/plain": [
       "'A'"
      ]
     },
     "execution_count": 258,
     "metadata": {},
     "output_type": "execute_result"
    }
   ],
   "source": [
    "#8 get_letter_grade(grade: float) -> letter_grade: str\n",
    "def get_letter_grade(grade):\n",
    "    if grade >= 90:\n",
    "        return \"A\"\n",
    "    elif grade in range(80, 90):\n",
    "        return \"B\"\n",
    "    elif grade in range(70, 80):\n",
    "        return \"C\"\n",
    "    else:\n",
    "        return \"F\"\n",
    "get_letter_grade(110)\n",
    "        "
   ]
  },
  {
   "cell_type": "code",
   "execution_count": 260,
   "metadata": {},
   "outputs": [
    {
     "data": {
      "text/plain": [
       "'lim'"
      ]
     },
     "execution_count": 260,
     "metadata": {},
     "output_type": "execute_result"
    }
   ],
   "source": [
    "#9 remove_vowels(string: str) -> str\n",
    "def remove_vowels(string):\n",
    "    for c in string:\n",
    "        if c in vowels:\n",
    "            word = string.replace(c,'')\n",
    "    return word\n",
    "remove_vowels(\"liam\")"
   ]
  },
  {
   "cell_type": "code",
   "execution_count": 272,
   "metadata": {},
   "outputs": [
    {
     "data": {
      "text/plain": [
       "'_lord_lo_0_'"
      ]
     },
     "execution_count": 272,
     "metadata": {},
     "output_type": "execute_result"
    }
   ],
   "source": [
    "#10 normalize_name(word: str) -> str\n",
    "def normalize_name(word):\n",
    "    #This creates a list with new string (only picks out alpha numeric letters)\n",
    "    word = \"\".join(c for c in word if c.isalnum() or c == \" \")\n",
    "    for c in word:\n",
    "            return word.lower().replace(\" \", \"_\")\n",
    "normalize_name(\" %Lord lo 0% \")\n"
   ]
  },
  {
   "cell_type": "code",
   "execution_count": 118,
   "metadata": {},
   "outputs": [
    {
     "data": {
      "text/plain": [
       "[1, 3, 6, 10]"
      ]
     },
     "execution_count": 118,
     "metadata": {},
     "output_type": "execute_result"
    }
   ],
   "source": [
    "#11 cumulative_sum(numbers: list[int]) -> list[int]\n",
    "def cumulative_sum(numbers):\n",
    "    total = 0\n",
    "    for n in numbers:\n",
    "        total += n\n",
    "        yield total\n",
    "list(cumulative_sum([1,2,3,4]))"
   ]
  },
  {
   "cell_type": "code",
   "execution_count": 279,
   "metadata": {},
   "outputs": [
    {
     "name": "stdout",
     "output_type": "stream",
     "text": [
      "sums: [1]\n",
      "start of sum for loop processing: [1]\n",
      "End of for loop sums: [1, 2]\n",
      "start of sum for loop processing: [1, 2]\n",
      "End of for loop sums: [1, 2, 3]\n"
     ]
    }
   ],
   "source": [
    "# or\n",
    "def cumulative_sum(list_of_numbers):\n",
    "    sums = [list_of_numbers[0]]\n",
    "    print(f\"sums: {sums}\")\n",
    "    for n in list_of_numbers[1:]:\n",
    "        print(f\"start of sum for loop processing: {sums}\")\n",
    "        previous_total = sums[-1]\n",
    "        sums.append(previous_total + n)\n",
    "        print(f\"End of for loop sums: {sums}\")\n",
    "cumulative_sum([1,1,1])"
   ]
  },
  {
   "cell_type": "code",
   "execution_count": 191,
   "metadata": {},
   "outputs": [
    {
     "name": "stdout",
     "output_type": "stream",
     "text": [
      "09:45 \n"
     ]
    }
   ],
   "source": [
    "def twelveto24(string):\n",
    "    if string[-2:] == \"AM\" and string[:2] == \"12\": \n",
    "        return \"00\" + string[3:5]\n",
    "    elif string[-2:] == \"AM\": \n",
    "        return string[:-2] \n",
    "    elif string[-2:] == \"PM\" and string[:2] == \"12\": \n",
    "        return string[:-2]\n",
    "    else:\n",
    "        return str(int(string[:2]) + 12) + string[2:5] \n",
    "print(twelveto24(\"09:45 AM\"))"
   ]
  },
  {
   "cell_type": "code",
   "execution_count": 143,
   "metadata": {},
   "outputs": [
    {
     "name": "stdout",
     "output_type": "stream",
     "text": [
      "27\n"
     ]
    }
   ],
   "source": [
    "#Bonus\n",
    "def col_index(c_name):\n",
    "    if c_name == ('A'):\n",
    "        print(1)\n",
    "    elif c_name == ('B'):\n",
    "        print(2)\n",
    "    elif c_name == ('AA'):\n",
    "        print(27)\n",
    "col_index(\"AA\")\n",
    "    \n",
    "    "
   ]
  },
  {
   "cell_type": "code",
   "execution_count": null,
   "metadata": {},
   "outputs": [],
   "source": []
  }
 ],
 "metadata": {
  "kernelspec": {
   "display_name": "Python 3",
   "language": "python",
   "name": "python3"
  },
  "language_info": {
   "codemirror_mode": {
    "name": "ipython",
    "version": 3
   },
   "file_extension": ".py",
   "mimetype": "text/x-python",
   "name": "python",
   "nbconvert_exporter": "python",
   "pygments_lexer": "ipython3",
   "version": "3.8.5"
  }
 },
 "nbformat": 4,
 "nbformat_minor": 4
}
