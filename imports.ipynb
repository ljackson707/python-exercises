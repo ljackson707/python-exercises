{
 "cells": [
  {
   "cell_type": "markdown",
   "metadata": {},
   "source": [
    "# Imports\n",
    "\n",
    "\n",
    "- We **import** libraries and modules into our current python environment or session in order to use the the functions, methods, or code within it. \n",
    "\n",
    "- We can only **import** what has already been **installed**! \n",
    "\n",
    "\n",
    "## Packages, Libaries & Modules, Oh My!\n",
    "\n",
    "A **Module** is a Python file that contains collections of functions and global variables. It is an executable file with a .py extension. A module can exist in: \n",
    "\n",
    "- Base python (https://docs.python.org/3/library/). \n",
    "\n",
    "- Community developed packages (https://pypi.org/), \n",
    "\n",
    "- Your working directory as a file that you have created. For example, Darden student Bethany Thompson has a repository named 'Predicting-Diabetes-Onset' (https://github.com/ThompsonBethany01/Predicting-Diabetes-Onset). It contains a file named Prepare.py, which is a module she created that she imports in her 'Data_Analysis.ipynb' Notebook. \n",
    "\n",
    "A **Package** is a directory having collections of modules. It can also consist of other packages, or 'sub-packages'. It is a way to distribute one or more modules. We *install* packages in order to be able to *import* modules or libraries for use. \n",
    "\n",
    "- Python Package Index (PyPI, https://pypi.org/) is a repository of community developed Python packages. \n",
    "\n",
    "- Anaconda's **Conda** product is a package manager. It helps you find and install packages (that originate in PyPI). \n",
    "\n",
    "\n",
    "A **Library** is \"a collection of related functionality of codes that allows you to perform many tasks without writing your code. It is a reusable chunk of code that we can use by importing it in our program.\" [source](https://www.geeksforgeeks.org/what-is-the-difference-between-pythons-module-package-and-library/) Next week, we will introduce you to the most awesome library ever ;)...Pandas. In fact, Pandas is a module, a library AND a package. https://pandas.pydata.org/. \n",
    "\n",
    "\n",
    "## Install to Import\n",
    "\n",
    "\n",
    "- In order to import a library or a module we have to install a package that contains it. \n",
    "\n",
    "- The basic Python installation includes a set of standard modules. The list and details can be found here: https://docs.python.org/3/library/ \n",
    "\n",
    "- Base installation of Anaconda includes a set of packages containing additional libraries and modules (beyond the base Python). The list of all available packages can be found at the link below, and the ones included in the base installation are indicated by a check mark in the 'In Installer' column. https://docs.anaconda.com/anaconda/packages/py3.7_osx-64/. \n",
    "\n",
    "- You run commands to install packages from your terminal, outside of a python session. You run commands to import modules & libraries within a python environment (after starting Python from the terminal, in a jupyter notebook, or within a python file). \n",
    "\n",
    "- To install packages that contain modules not included in the base installation of Python or Anaconda, you can go directly through PyPI using the following command in your terminal: *pip install <package_name>* (PiP = Package in Python) OR through Anaconda's Package Manager, Conda, using *conda install <package_name>*. \n",
    "\n",
    "- It is best to try installing via conda first, as Anaconda vets the packages available for safety and reliability. On the other hand, PyPI is commumity developed, so it is very easy for malicious code to be contributed and exist for a bit before it is caught and pulled down. Because of that, it is important to pay close attention to what you are installing. Check the followers, supports, downloads of a package before you install it. You don't want to install a package that is new or not well known, unless you have fully vetted the code and know what it is doing. To see the code, you can visit the github repo for each package.\n",
    "\n",
    "- To compare conda and pip commands, check out this table: https://conda.io/projects/conda/en/latest/commands.html#conda-vs-pip-vs-virtualenv-commands\n",
    "\n",
    "\n",
    "**Practice:**\n",
    "\n",
    "1. Install the bokeh package using `conda install bokeh`. \n",
    "\n",
    "2. Install Zach's Python Utilities package using `pip install zgulde` https://pypi.org/project/zgulde/\n",
    "\n",
    "3. Install pydataset. Try using `conda install pydataset`. What happens? Google 'Install pydataset'. Check out the first search result! So, how can you install it? Go ahead and install it. "
   ]
  },
  {
   "cell_type": "code",
   "execution_count": null,
   "metadata": {},
   "outputs": [],
   "source": []
  },
  {
   "cell_type": "markdown",
   "metadata": {},
   "source": [
    "## Import\n",
    "\n",
    "We may import an entire module (or library) or just pieces of it, such as a function or variable containted within it. \n",
    "\n",
    "To import the entire module: \n",
    "\n",
    "- import long_name\n",
    "- import long_name AS alias\n",
    "\n",
    "To import parts of it: \n",
    "\n",
    "- from long_name import function_name\n",
    "- from long_name import function_name as alias\n",
    "- from long_name import function1, function2"
   ]
  },
  {
   "cell_type": "markdown",
   "metadata": {},
   "source": [
    "**Example 1:**\n",
    "\n",
    "I want to use the sqrt function that exists in the Math module (in Base Python). https://docs.python.org/3/library/math.html"
   ]
  },
  {
   "cell_type": "code",
   "execution_count": 1,
   "metadata": {},
   "outputs": [
    {
     "data": {
      "text/plain": [
       "2.0"
      ]
     },
     "execution_count": 1,
     "metadata": {},
     "output_type": "execute_result"
    }
   ],
   "source": [
    "import math\n",
    "\n",
    "x = 4\n",
    "math.sqrt(4)"
   ]
  },
  {
   "cell_type": "code",
   "execution_count": 2,
   "metadata": {},
   "outputs": [
    {
     "data": {
      "text/plain": [
       "2.0"
      ]
     },
     "execution_count": 2,
     "metadata": {},
     "output_type": "execute_result"
    }
   ],
   "source": [
    "import math as m\n",
    "m.sqrt(4)"
   ]
  },
  {
   "cell_type": "code",
   "execution_count": 3,
   "metadata": {},
   "outputs": [
    {
     "data": {
      "text/plain": [
       "2.0"
      ]
     },
     "execution_count": 3,
     "metadata": {},
     "output_type": "execute_result"
    }
   ],
   "source": [
    "from math import sqrt\n",
    "sqrt(4)"
   ]
  },
  {
   "cell_type": "code",
   "execution_count": 7,
   "metadata": {},
   "outputs": [
    {
     "name": "stdout",
     "output_type": "stream",
     "text": [
      "2.0\n",
      "16.0\n"
     ]
    }
   ],
   "source": [
    "import math \n",
    "from math import sqrt\n",
    "\n",
    "print(sqrt(4))\n",
    "print(math.pow(4, 2))"
   ]
  },
  {
   "cell_type": "code",
   "execution_count": 8,
   "metadata": {},
   "outputs": [
    {
     "name": "stdout",
     "output_type": "stream",
     "text": [
      "2.0\n",
      "9.8596\n"
     ]
    }
   ],
   "source": [
    "from math import sqrt, pow\n",
    "\n",
    "print(sqrt(4))\n",
    "print(pow(3.14, 2))"
   ]
  },
  {
   "cell_type": "markdown",
   "metadata": {},
   "source": [
    "**Example 2:**\n",
    "\n",
    "I want to read into my environment some data that I have copied to my clipboard. I will use Pandas to do that. "
   ]
  },
  {
   "cell_type": "code",
   "execution_count": 9,
   "metadata": {},
   "outputs": [
    {
     "data": {
      "text/html": [
       "<div>\n",
       "<style scoped>\n",
       "    .dataframe tbody tr th:only-of-type {\n",
       "        vertical-align: middle;\n",
       "    }\n",
       "\n",
       "    .dataframe tbody tr th {\n",
       "        vertical-align: top;\n",
       "    }\n",
       "\n",
       "    .dataframe thead th {\n",
       "        text-align: right;\n",
       "    }\n",
       "</style>\n",
       "<table border=\"1\" class=\"dataframe\">\n",
       "  <thead>\n",
       "    <tr style=\"text-align: right;\">\n",
       "      <th></th>\n",
       "      <th>Find,</th>\n",
       "      <th>install</th>\n",
       "      <th>and</th>\n",
       "      <th>publish</th>\n",
       "      <th>Python</th>\n",
       "      <th>packages</th>\n",
       "      <th>with</th>\n",
       "      <th>the</th>\n",
       "      <th>Python.1</th>\n",
       "      <th>Packag</th>\n",
       "    </tr>\n",
       "  </thead>\n",
       "  <tbody>\n",
       "  </tbody>\n",
       "</table>\n",
       "</div>"
      ],
      "text/plain": [
       "Empty DataFrame\n",
       "Columns: [Find,, install, and, publish, Python, packages, with, the, Python.1, Packag]\n",
       "Index: []"
      ]
     },
     "execution_count": 9,
     "metadata": {},
     "output_type": "execute_result"
    }
   ],
   "source": [
    "import pandas as pd\n",
    "\n",
    "pd.read_clipboard()"
   ]
  },
  {
   "cell_type": "code",
   "execution_count": 11,
   "metadata": {},
   "outputs": [
    {
     "data": {
      "text/html": [
       "<div>\n",
       "<style scoped>\n",
       "    .dataframe tbody tr th:only-of-type {\n",
       "        vertical-align: middle;\n",
       "    }\n",
       "\n",
       "    .dataframe tbody tr th {\n",
       "        vertical-align: top;\n",
       "    }\n",
       "\n",
       "    .dataframe thead th {\n",
       "        text-align: right;\n",
       "    }\n",
       "</style>\n",
       "<table border=\"1\" class=\"dataframe\">\n",
       "  <thead>\n",
       "    <tr style=\"text-align: right;\">\n",
       "      <th></th>\n",
       "      <th>Find,</th>\n",
       "      <th>install</th>\n",
       "      <th>and</th>\n",
       "      <th>publish</th>\n",
       "      <th>Python</th>\n",
       "      <th>packages</th>\n",
       "      <th>with</th>\n",
       "      <th>the</th>\n",
       "      <th>Python.1</th>\n",
       "      <th>Packag</th>\n",
       "    </tr>\n",
       "  </thead>\n",
       "  <tbody>\n",
       "  </tbody>\n",
       "</table>\n",
       "</div>"
      ],
      "text/plain": [
       "Empty DataFrame\n",
       "Columns: [Find,, install, and, publish, Python, packages, with, the, Python.1, Packag]\n",
       "Index: []"
      ]
     },
     "execution_count": 11,
     "metadata": {},
     "output_type": "execute_result"
    }
   ],
   "source": [
    "from pandas import read_clipboard\n",
    "\n",
    "read_clipboard() # Takes whatever you copy from another cite or Url."
   ]
  },
  {
   "cell_type": "markdown",
   "metadata": {},
   "source": [
    "**Example 3:**\n",
    "\n",
    "Import a local module that contains the code to read data about iris species into my environment.\n"
   ]
  },
  {
   "cell_type": "code",
   "execution_count": 12,
   "metadata": {},
   "outputs": [
    {
     "name": "stdout",
     "output_type": "stream",
     "text": [
      "initiated datasets repo at: /Users/liamjackson/.pydataset/\n",
      "iris\n",
      "\n",
      "PyDataset Documentation (adopted from R Documentation. The displayed examples are in R)\n",
      "\n",
      "## Edgar Anderson's Iris Data\n",
      "\n",
      "### Description\n",
      "\n",
      "This famous (Fisher's or Anderson's) iris data set gives the measurements in\n",
      "centimeters of the variables sepal length and width and petal length and\n",
      "width, respectively, for 50 flowers from each of 3 species of iris. The\n",
      "species are _Iris setosa_, _versicolor_, and _virginica_.\n",
      "\n",
      "### Usage\n",
      "\n",
      "    iris\n",
      "    iris3\n",
      "\n",
      "### Format\n",
      "\n",
      "`iris` is a data frame with 150 cases (rows) and 5 variables (columns) named\n",
      "`Sepal.Length`, `Sepal.Width`, `Petal.Length`, `Petal.Width`, and `Species`.\n",
      "\n",
      "`iris3` gives the same data arranged as a 3-dimensional array of size 50 by 4\n",
      "by 3, as represented by S-PLUS. The first dimension gives the case number\n",
      "within the species subsample, the second the measurements with names `Sepal\n",
      "L.`, `Sepal W.`, `Petal L.`, and `Petal W.`, and the third the species.\n",
      "\n",
      "### Source\n",
      "\n",
      "Fisher, R. A. (1936) The use of multiple measurements in taxonomic problems.\n",
      "_Annals of Eugenics_, **7**, Part II, 179–188.\n",
      "\n",
      "The data were collected by Anderson, Edgar (1935). The irises of the Gaspe\n",
      "Peninsula, _Bulletin of the American Iris Society_, **59**, 2–5.\n",
      "\n",
      "### References\n",
      "\n",
      "Becker, R. A., Chambers, J. M. and Wilks, A. R. (1988) _The New S Language_.\n",
      "Wadsworth & Brooks/Cole. (has `iris3` as `iris`.)\n",
      "\n",
      "### See Also\n",
      "\n",
      "`matplot` some examples of which use `iris`.\n",
      "\n",
      "### Examples\n",
      "\n",
      "    dni3 <- dimnames(iris3)\n",
      "    ii <- data.frame(matrix(aperm(iris3, c(1,3,2)), ncol = 4,\n",
      "                            dimnames = list(NULL, sub(\" L.\",\".Length\",\n",
      "                                            sub(\" W.\",\".Width\", dni3[[2]])))),\n",
      "        Species = gl(3, 50, labels = sub(\"S\", \"s\", sub(\"V\", \"v\", dni3[[3]]))))\n",
      "    all.equal(ii, iris) # TRUE\n",
      "\n",
      "\n"
     ]
    }
   ],
   "source": [
    "from pydataset import data\n",
    "\n",
    "data(\"iris\", show_doc=True)\n",
    "\n",
    "#if you have tis function saved under another file name you can\n",
    "#just do import(filename) and it will run the program a collect and store the data.\n"
   ]
  },
  {
   "cell_type": "code",
   "execution_count": 14,
   "metadata": {},
   "outputs": [],
   "source": [
    "#from aquire import get_iris_data (if installed you can import using this)\n",
    "\n",
    "#get_iris_data"
   ]
  },
  {
   "cell_type": "code",
   "execution_count": null,
   "metadata": {},
   "outputs": [],
   "source": []
  }
 ],
 "metadata": {
  "kernelspec": {
   "display_name": "Python 3",
   "language": "python",
   "name": "python3"
  },
  "language_info": {
   "codemirror_mode": {
    "name": "ipython",
    "version": 3
   },
   "file_extension": ".py",
   "mimetype": "text/x-python",
   "name": "python",
   "nbconvert_exporter": "python",
   "pygments_lexer": "ipython3",
   "version": "3.8.5"
  }
 },
 "nbformat": 4,
 "nbformat_minor": 2
}
